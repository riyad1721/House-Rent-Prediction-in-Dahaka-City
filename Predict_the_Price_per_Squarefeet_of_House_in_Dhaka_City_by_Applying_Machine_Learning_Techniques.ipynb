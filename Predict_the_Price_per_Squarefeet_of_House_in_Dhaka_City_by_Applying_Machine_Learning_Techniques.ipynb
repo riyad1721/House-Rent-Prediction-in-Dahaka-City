{
  "cells": [
    {
      "cell_type": "markdown",
      "id": "1c0c8fe6",
      "metadata": {
        "id": "1c0c8fe6"
      },
      "source": [
        "# Predict the Rent of House in Dhaka City by Applying Machine Learning Techniques"
      ]
    },
    {
      "cell_type": "markdown",
      "id": "7084869a",
      "metadata": {
        "id": "7084869a"
      },
      "source": [
        "\n"
      ]
    },
    {
      "cell_type": "markdown",
      "id": "0c3e7e1c",
      "metadata": {
        "id": "0c3e7e1c"
      },
      "source": [
        "### Import liberary"
      ]
    },
    {
      "cell_type": "code",
      "execution_count": null,
      "id": "c1bb083a",
      "metadata": {
        "id": "c1bb083a"
      },
      "outputs": [],
      "source": [
        "import numpy as np\n",
        "import pandas as pd\n",
        "import matplotlib.pyplot as plt\n",
        "import seaborn as sns\n",
        "from scipy import stats\n",
        "import csv\n",
        "%matplotlib inline"
      ]
    },
    {
      "cell_type": "markdown",
      "id": "b38065d1",
      "metadata": {
        "id": "b38065d1"
      },
      "source": [
        "### 1. Data Set \n",
        "We have collected two dataset from Bproperties\n",
        "1. In BpropertyManualData.csv dataset we collected manually nearby educational istitute,Medical Service, Park and Resturent Information.\n",
        "2. In BpropertyWebScrapping.csv We collected akk the house location in dhaka city\n",
        "\n",
        "After Collecting all these two dataset we marged them and made a one singel dataset named \"Primarydata\""
      ]
    },
    {
      "cell_type": "markdown",
      "id": "2d3ad123",
      "metadata": {
        "id": "2d3ad123"
      },
      "source": [
        "#### Loading Manual Data"
      ]
    },
    {
      "cell_type": "code",
      "execution_count": null,
      "id": "2c8bfe19",
      "metadata": {
        "colab": {
          "base_uri": "https://localhost:8080/",
          "height": 225
        },
        "id": "2c8bfe19",
        "outputId": "106ff819-2129-4020-c1cf-100b3a7ff5e4"
      },
      "outputs": [
        {
          "name": "stdout",
          "output_type": "stream",
          "text": [
            "(896, 5)\n"
          ]
        },
        {
          "data": {
            "text/html": [
              "<div>\n",
              "<style scoped>\n",
              "    .dataframe tbody tr th:only-of-type {\n",
              "        vertical-align: middle;\n",
              "    }\n",
              "\n",
              "    .dataframe tbody tr th {\n",
              "        vertical-align: top;\n",
              "    }\n",
              "\n",
              "    .dataframe thead th {\n",
              "        text-align: right;\n",
              "    }\n",
              "</style>\n",
              "<table border=\"1\" class=\"dataframe\">\n",
              "  <thead>\n",
              "    <tr style=\"text-align: right;\">\n",
              "      <th></th>\n",
              "      <th>Address</th>\n",
              "      <th>Educational Institute</th>\n",
              "      <th>Restaurants</th>\n",
              "      <th>Medical Service</th>\n",
              "      <th>Parks</th>\n",
              "    </tr>\n",
              "  </thead>\n",
              "  <tbody>\n",
              "    <tr>\n",
              "      <th>0</th>\n",
              "      <td>1st Colony, Mirpur, Dhaka</td>\n",
              "      <td>28.0</td>\n",
              "      <td>12.0</td>\n",
              "      <td>24.0</td>\n",
              "      <td>16.0</td>\n",
              "    </tr>\n",
              "    <tr>\n",
              "      <th>1</th>\n",
              "      <td>22 Bari, West Kazipara, Mirpur, Dhaka</td>\n",
              "      <td>47.0</td>\n",
              "      <td>50.0</td>\n",
              "      <td>6.0</td>\n",
              "      <td>18.0</td>\n",
              "    </tr>\n",
              "    <tr>\n",
              "      <th>2</th>\n",
              "      <td>2nd Colony, Mirpur, Dhaka</td>\n",
              "      <td>15.0</td>\n",
              "      <td>24.0</td>\n",
              "      <td>2.0</td>\n",
              "      <td>13.0</td>\n",
              "    </tr>\n",
              "    <tr>\n",
              "      <th>3</th>\n",
              "      <td>2nd Lane, Gopibag, Motijheel, Dhaka</td>\n",
              "      <td>9.0</td>\n",
              "      <td>15.0</td>\n",
              "      <td>1.0</td>\n",
              "      <td>17.0</td>\n",
              "    </tr>\n",
              "    <tr>\n",
              "      <th>4</th>\n",
              "      <td>3rd Colony, Mirpur, Dhaka</td>\n",
              "      <td>24.0</td>\n",
              "      <td>29.0</td>\n",
              "      <td>5.0</td>\n",
              "      <td>12.0</td>\n",
              "    </tr>\n",
              "  </tbody>\n",
              "</table>\n",
              "</div>"
            ],
            "text/plain": [
              "                                 Address  Educational Institute  Restaurants  \\\n",
              "0              1st Colony, Mirpur, Dhaka                   28.0         12.0   \n",
              "1  22 Bari, West Kazipara, Mirpur, Dhaka                   47.0         50.0   \n",
              "2              2nd Colony, Mirpur, Dhaka                   15.0         24.0   \n",
              "3    2nd Lane, Gopibag, Motijheel, Dhaka                    9.0         15.0   \n",
              "4              3rd Colony, Mirpur, Dhaka                   24.0         29.0   \n",
              "\n",
              "   Medical Service  Parks  \n",
              "0             24.0   16.0  \n",
              "1              6.0   18.0  \n",
              "2              2.0   13.0  \n",
              "3              1.0   17.0  \n",
              "4              5.0   12.0  "
            ]
          },
          "execution_count": 206,
          "metadata": {},
          "output_type": "execute_result"
        }
      ],
      "source": [
        "\n",
        "Manual_data = pd.read_csv('BpropertyManualData.csv') # raw_data is the panda's dataframe\n",
        "\n",
        "# print the shape\n",
        "print(Manual_data.shape)\n",
        "\n",
        "#runs the first 5 rows\n",
        "Manual_data.head()"
      ]
    },
    {
      "cell_type": "markdown",
      "id": "6bc1ab30",
      "metadata": {
        "id": "6bc1ab30"
      },
      "source": [
        "#### Loading Web Scrapping Data"
      ]
    },
    {
      "cell_type": "code",
      "execution_count": null,
      "id": "542eeebb",
      "metadata": {
        "colab": {
          "base_uri": "https://localhost:8080/",
          "height": 722
        },
        "id": "542eeebb",
        "outputId": "dfee5887-15e9-42ee-c942-fc4740fe4617"
      },
      "outputs": [
        {
          "name": "stdout",
          "output_type": "stream",
          "text": [
            "(38189, 11)\n"
          ]
        },
        {
          "data": {
            "text/html": [
              "<div>\n",
              "<style scoped>\n",
              "    .dataframe tbody tr th:only-of-type {\n",
              "        vertical-align: middle;\n",
              "    }\n",
              "\n",
              "    .dataframe tbody tr th {\n",
              "        vertical-align: top;\n",
              "    }\n",
              "\n",
              "    .dataframe thead th {\n",
              "        text-align: right;\n",
              "    }\n",
              "</style>\n",
              "<table border=\"1\" class=\"dataframe\">\n",
              "  <thead>\n",
              "    <tr style=\"text-align: right;\">\n",
              "      <th></th>\n",
              "      <th>Brief</th>\n",
              "      <th>Link</th>\n",
              "      <th>Price</th>\n",
              "      <th>Address</th>\n",
              "      <th>Type</th>\n",
              "      <th>Details</th>\n",
              "      <th>Beds</th>\n",
              "      <th>Baths</th>\n",
              "      <th>Size</th>\n",
              "      <th>Image Link</th>\n",
              "      <th>Image Link 2</th>\n",
              "    </tr>\n",
              "  </thead>\n",
              "  <tbody>\n",
              "    <tr>\n",
              "      <th>0</th>\n",
              "      <td>{\"@context\":\"https://schema.org\",\"@type\":\"Apar...</td>\n",
              "      <td>https://www.bproperty.com/en/property/details-...</td>\n",
              "      <td>45000</td>\n",
              "      <td>Dhanmondi, Dhaka</td>\n",
              "      <td>Apartment</td>\n",
              "      <td>1616 Sq Ft Nice Apartment Is For Rent In Dhanm...</td>\n",
              "      <td>3.0</td>\n",
              "      <td>3.0</td>\n",
              "      <td>1616</td>\n",
              "      <td>NaN</td>\n",
              "      <td>NaN</td>\n",
              "    </tr>\n",
              "    <tr>\n",
              "      <th>1</th>\n",
              "      <td>{\"@context\":\"https://schema.org\",\"@type\":\"Apar...</td>\n",
              "      <td>https://www.bproperty.com/en/property/details-...</td>\n",
              "      <td>25000</td>\n",
              "      <td>Block I, Bashundhara R-A, Dhaka</td>\n",
              "      <td>Apartment</td>\n",
              "      <td>A Must See This Apartment For Rent Is All Set ...</td>\n",
              "      <td>3.0</td>\n",
              "      <td>4.0</td>\n",
              "      <td>1500</td>\n",
              "      <td>NaN</td>\n",
              "      <td>NaN</td>\n",
              "    </tr>\n",
              "    <tr>\n",
              "      <th>2</th>\n",
              "      <td>{\"@context\":\"https://schema.org\",\"@type\":\"Resi...</td>\n",
              "      <td>https://www.bproperty.com/en/property/details-...</td>\n",
              "      <td>150000</td>\n",
              "      <td>Sector 3, Uttara, Dhaka</td>\n",
              "      <td>Building</td>\n",
              "      <td>A 4500 Square Feet Full Building Ready For Ren...</td>\n",
              "      <td>5.0</td>\n",
              "      <td>5.0</td>\n",
              "      <td>4500</td>\n",
              "      <td>NaN</td>\n",
              "      <td>NaN</td>\n",
              "    </tr>\n",
              "    <tr>\n",
              "      <th>3</th>\n",
              "      <td>{\"@context\":\"https://schema.org\",\"@type\":\"Apar...</td>\n",
              "      <td>https://www.bproperty.com/en/property/details-...</td>\n",
              "      <td>45000</td>\n",
              "      <td>Block F, Bashundhara R-A, Dhaka</td>\n",
              "      <td>Apartment</td>\n",
              "      <td>Tastefully Designed This 3-Bedroom Apartment I...</td>\n",
              "      <td>3.0</td>\n",
              "      <td>3.0</td>\n",
              "      <td>1850</td>\n",
              "      <td>NaN</td>\n",
              "      <td>NaN</td>\n",
              "    </tr>\n",
              "    <tr>\n",
              "      <th>4</th>\n",
              "      <td>{\"@context\":\"https://schema.org\",\"@type\":\"Apar...</td>\n",
              "      <td>https://www.bproperty.com/en/property/details-...</td>\n",
              "      <td>48000</td>\n",
              "      <td>Sector 3, Uttara, Dhaka</td>\n",
              "      <td>Apartment</td>\n",
              "      <td>2700 Sq Ft Apartment Is Ready For Rent In Uttara</td>\n",
              "      <td>4.0</td>\n",
              "      <td>4.0</td>\n",
              "      <td>2700</td>\n",
              "      <td>&lt;source type=\"image/webp\" srcSet=https://image...</td>\n",
              "      <td>&lt;source type=\"image/webp\" srcSet=https://image...</td>\n",
              "    </tr>\n",
              "  </tbody>\n",
              "</table>\n",
              "</div>"
            ],
            "text/plain": [
              "                                               Brief  \\\n",
              "0  {\"@context\":\"https://schema.org\",\"@type\":\"Apar...   \n",
              "1  {\"@context\":\"https://schema.org\",\"@type\":\"Apar...   \n",
              "2  {\"@context\":\"https://schema.org\",\"@type\":\"Resi...   \n",
              "3  {\"@context\":\"https://schema.org\",\"@type\":\"Apar...   \n",
              "4  {\"@context\":\"https://schema.org\",\"@type\":\"Apar...   \n",
              "\n",
              "                                                Link   Price  \\\n",
              "0  https://www.bproperty.com/en/property/details-...   45000   \n",
              "1  https://www.bproperty.com/en/property/details-...   25000   \n",
              "2  https://www.bproperty.com/en/property/details-...  150000   \n",
              "3  https://www.bproperty.com/en/property/details-...   45000   \n",
              "4  https://www.bproperty.com/en/property/details-...   48000   \n",
              "\n",
              "                           Address       Type  \\\n",
              "0                 Dhanmondi, Dhaka  Apartment   \n",
              "1  Block I, Bashundhara R-A, Dhaka  Apartment   \n",
              "2          Sector 3, Uttara, Dhaka   Building   \n",
              "3  Block F, Bashundhara R-A, Dhaka  Apartment   \n",
              "4          Sector 3, Uttara, Dhaka  Apartment   \n",
              "\n",
              "                                             Details  Beds  Baths  Size  \\\n",
              "0  1616 Sq Ft Nice Apartment Is For Rent In Dhanm...   3.0    3.0  1616   \n",
              "1  A Must See This Apartment For Rent Is All Set ...   3.0    4.0  1500   \n",
              "2  A 4500 Square Feet Full Building Ready For Ren...   5.0    5.0  4500   \n",
              "3  Tastefully Designed This 3-Bedroom Apartment I...   3.0    3.0  1850   \n",
              "4   2700 Sq Ft Apartment Is Ready For Rent In Uttara   4.0    4.0  2700   \n",
              "\n",
              "                                          Image Link  \\\n",
              "0                                                NaN   \n",
              "1                                                NaN   \n",
              "2                                                NaN   \n",
              "3                                                NaN   \n",
              "4  <source type=\"image/webp\" srcSet=https://image...   \n",
              "\n",
              "                                        Image Link 2  \n",
              "0                                                NaN  \n",
              "1                                                NaN  \n",
              "2                                                NaN  \n",
              "3                                                NaN  \n",
              "4  <source type=\"image/webp\" srcSet=https://image...  "
            ]
          },
          "execution_count": 207,
          "metadata": {},
          "output_type": "execute_result"
        }
      ],
      "source": [
        "Webscrapped_data = pd.read_csv('BpropertyWebScrapping.csv')\n",
        "\n",
        "# print the shape\n",
        "print(Webscrapped_data.shape)\n",
        "\n",
        "#runs the first 5 rows\n",
        "Webscrapped_data.head()"
      ]
    },
    {
      "cell_type": "markdown",
      "id": "0d5fd09e",
      "metadata": {
        "id": "0d5fd09e"
      },
      "source": [
        "#### Merge Both Dataset"
      ]
    },
    {
      "cell_type": "code",
      "execution_count": null,
      "id": "894bfa60",
      "metadata": {
        "colab": {
          "base_uri": "https://localhost:8080/"
        },
        "id": "894bfa60",
        "outputId": "3722f9bc-4aad-4745-ba44-4b245ed62cc0"
      },
      "outputs": [
        {
          "name": "stdout",
          "output_type": "stream",
          "text": [
            "(38189, 15)\n"
          ]
        },
        {
          "data": {
            "text/plain": [
              "Index(['Brief', 'Link', 'Price', 'Address', 'Type', 'Details', 'Beds', 'Baths',\n",
              "       'Size', 'Image Link', 'Image Link 2', 'Educational Institute',\n",
              "       'Restaurants', 'Medical Service', 'Parks'],\n",
              "      dtype='object')"
            ]
          },
          "execution_count": 208,
          "metadata": {},
          "output_type": "execute_result"
        }
      ],
      "source": [
        "\n",
        "Primarydata = pd.merge(Webscrapped_data,Manual_data)\n",
        "print(Primarydata.shape)\n",
        "Primarydata.columns\n",
        "\n"
      ]
    },
    {
      "cell_type": "markdown",
      "id": "3cc63734",
      "metadata": {
        "id": "3cc63734"
      },
      "source": [
        "\"Primarydata\" Now our primary dataset is ready now it is time for some preprocessing and drop all the unnecessary data like image link, large catagorical details etc."
      ]
    },
    {
      "cell_type": "markdown",
      "id": "6d6598cb",
      "metadata": {
        "id": "6d6598cb"
      },
      "source": [
        "### 2. Preprocessing\n",
        "Here we have droped the following unnecessary features, we have sorted the address a little bit and converted the file into the price per square feet.\n",
        "\n",
        "- Brief \t\n",
        "- Link\n",
        "- Details\n",
        "- Image Link\n",
        "- Image Link 2"
      ]
    },
    {
      "cell_type": "markdown",
      "id": "e35be6ac",
      "metadata": {
        "id": "e35be6ac"
      },
      "source": [
        "#### Droping The Unnecessary Features"
      ]
    },
    {
      "cell_type": "code",
      "execution_count": null,
      "id": "9a01372a",
      "metadata": {
        "colab": {
          "base_uri": "https://localhost:8080/"
        },
        "id": "9a01372a",
        "outputId": "995e782b-95dc-4f20-cb6b-2060e76bc53d"
      },
      "outputs": [
        {
          "data": {
            "text/plain": [
              "Index(['Price', 'Address', 'Type', 'Beds', 'Baths', 'Size',\n",
              "       'Educational Institute', 'Restaurants', 'Medical Service', 'Parks'],\n",
              "      dtype='object')"
            ]
          },
          "execution_count": 209,
          "metadata": {},
          "output_type": "execute_result"
        }
      ],
      "source": [
        "Primarydata=Primarydata.drop(labels=['Brief','Link','Details','Image Link','Image Link 2'], axis=1)\n",
        "Primarydata.columns"
      ]
    },
    {
      "cell_type": "markdown",
      "id": "ab2844d7",
      "metadata": {
        "id": "ab2844d7"
      },
      "source": [
        "#### Making the adress more simple and converting the price into price per squire feet"
      ]
    },
    {
      "cell_type": "code",
      "execution_count": null,
      "id": "722c3530",
      "metadata": {
        "colab": {
          "base_uri": "https://localhost:8080/",
          "height": 424
        },
        "id": "722c3530",
        "outputId": "62ae2f7f-53d0-44a5-e939-c90dfd48a037",
        "scrolled": true
      },
      "outputs": [
        {
          "data": {
            "text/html": [
              "<div>\n",
              "<style scoped>\n",
              "    .dataframe tbody tr th:only-of-type {\n",
              "        vertical-align: middle;\n",
              "    }\n",
              "\n",
              "    .dataframe tbody tr th {\n",
              "        vertical-align: top;\n",
              "    }\n",
              "\n",
              "    .dataframe thead th {\n",
              "        text-align: right;\n",
              "    }\n",
              "</style>\n",
              "<table border=\"1\" class=\"dataframe\">\n",
              "  <thead>\n",
              "    <tr style=\"text-align: right;\">\n",
              "      <th></th>\n",
              "      <th>Address</th>\n",
              "      <th>Type</th>\n",
              "      <th>Beds</th>\n",
              "      <th>Baths</th>\n",
              "      <th>Size</th>\n",
              "      <th>Educational Institute</th>\n",
              "      <th>Restaurants</th>\n",
              "      <th>Medical Service</th>\n",
              "      <th>Parks</th>\n",
              "      <th>PricePerSqft</th>\n",
              "    </tr>\n",
              "  </thead>\n",
              "  <tbody>\n",
              "    <tr>\n",
              "      <th>0</th>\n",
              "      <td>Dhanmondi</td>\n",
              "      <td>Apartment</td>\n",
              "      <td>3.0</td>\n",
              "      <td>3.0</td>\n",
              "      <td>1616</td>\n",
              "      <td>50.0</td>\n",
              "      <td>50.0</td>\n",
              "      <td>20.0</td>\n",
              "      <td>50.0</td>\n",
              "      <td>27</td>\n",
              "    </tr>\n",
              "    <tr>\n",
              "      <th>1</th>\n",
              "      <td>Dhanmondi</td>\n",
              "      <td>Apartment</td>\n",
              "      <td>4.0</td>\n",
              "      <td>4.0</td>\n",
              "      <td>3132</td>\n",
              "      <td>50.0</td>\n",
              "      <td>50.0</td>\n",
              "      <td>20.0</td>\n",
              "      <td>50.0</td>\n",
              "      <td>23</td>\n",
              "    </tr>\n",
              "    <tr>\n",
              "      <th>2</th>\n",
              "      <td>Dhanmondi</td>\n",
              "      <td>Apartment</td>\n",
              "      <td>3.0</td>\n",
              "      <td>4.0</td>\n",
              "      <td>1800</td>\n",
              "      <td>50.0</td>\n",
              "      <td>50.0</td>\n",
              "      <td>20.0</td>\n",
              "      <td>50.0</td>\n",
              "      <td>66</td>\n",
              "    </tr>\n",
              "    <tr>\n",
              "      <th>3</th>\n",
              "      <td>Dhanmondi</td>\n",
              "      <td>Apartment</td>\n",
              "      <td>3.0</td>\n",
              "      <td>3.0</td>\n",
              "      <td>1300</td>\n",
              "      <td>50.0</td>\n",
              "      <td>50.0</td>\n",
              "      <td>20.0</td>\n",
              "      <td>50.0</td>\n",
              "      <td>40</td>\n",
              "    </tr>\n",
              "    <tr>\n",
              "      <th>4</th>\n",
              "      <td>Dhanmondi</td>\n",
              "      <td>Apartment</td>\n",
              "      <td>3.0</td>\n",
              "      <td>3.0</td>\n",
              "      <td>1250</td>\n",
              "      <td>50.0</td>\n",
              "      <td>50.0</td>\n",
              "      <td>20.0</td>\n",
              "      <td>50.0</td>\n",
              "      <td>24</td>\n",
              "    </tr>\n",
              "    <tr>\n",
              "      <th>...</th>\n",
              "      <td>...</td>\n",
              "      <td>...</td>\n",
              "      <td>...</td>\n",
              "      <td>...</td>\n",
              "      <td>...</td>\n",
              "      <td>...</td>\n",
              "      <td>...</td>\n",
              "      <td>...</td>\n",
              "      <td>...</td>\n",
              "      <td>...</td>\n",
              "    </tr>\n",
              "    <tr>\n",
              "      <th>38184</th>\n",
              "      <td>Mirpur</td>\n",
              "      <td>Apartment</td>\n",
              "      <td>2.0</td>\n",
              "      <td>1.0</td>\n",
              "      <td>600</td>\n",
              "      <td>50.0</td>\n",
              "      <td>27.0</td>\n",
              "      <td>6.0</td>\n",
              "      <td>8.0</td>\n",
              "      <td>16</td>\n",
              "    </tr>\n",
              "    <tr>\n",
              "      <th>38185</th>\n",
              "      <td>Bashabo</td>\n",
              "      <td>Apartment</td>\n",
              "      <td>2.0</td>\n",
              "      <td>1.0</td>\n",
              "      <td>600</td>\n",
              "      <td>32.0</td>\n",
              "      <td>24.0</td>\n",
              "      <td>6.0</td>\n",
              "      <td>27.0</td>\n",
              "      <td>13</td>\n",
              "    </tr>\n",
              "    <tr>\n",
              "      <th>38186</th>\n",
              "      <td>Savar</td>\n",
              "      <td>Apartment</td>\n",
              "      <td>3.0</td>\n",
              "      <td>1.0</td>\n",
              "      <td>800</td>\n",
              "      <td>1.0</td>\n",
              "      <td>0.0</td>\n",
              "      <td>0.0</td>\n",
              "      <td>0.0</td>\n",
              "      <td>11</td>\n",
              "    </tr>\n",
              "    <tr>\n",
              "      <th>38187</th>\n",
              "      <td>Demra</td>\n",
              "      <td>Apartment</td>\n",
              "      <td>3.0</td>\n",
              "      <td>2.0</td>\n",
              "      <td>750</td>\n",
              "      <td>0.0</td>\n",
              "      <td>0.0</td>\n",
              "      <td>0.0</td>\n",
              "      <td>2.0</td>\n",
              "      <td>11</td>\n",
              "    </tr>\n",
              "    <tr>\n",
              "      <th>38188</th>\n",
              "      <td>Mirpur</td>\n",
              "      <td>Apartment</td>\n",
              "      <td>2.0</td>\n",
              "      <td>1.0</td>\n",
              "      <td>550</td>\n",
              "      <td>9.0</td>\n",
              "      <td>12.0</td>\n",
              "      <td>6.0</td>\n",
              "      <td>8.0</td>\n",
              "      <td>16</td>\n",
              "    </tr>\n",
              "  </tbody>\n",
              "</table>\n",
              "<p>38189 rows × 10 columns</p>\n",
              "</div>"
            ],
            "text/plain": [
              "         Address       Type  Beds  Baths  Size  Educational Institute  \\\n",
              "0      Dhanmondi  Apartment   3.0    3.0  1616                   50.0   \n",
              "1      Dhanmondi  Apartment   4.0    4.0  3132                   50.0   \n",
              "2      Dhanmondi  Apartment   3.0    4.0  1800                   50.0   \n",
              "3      Dhanmondi  Apartment   3.0    3.0  1300                   50.0   \n",
              "4      Dhanmondi  Apartment   3.0    3.0  1250                   50.0   \n",
              "...          ...        ...   ...    ...   ...                    ...   \n",
              "38184     Mirpur  Apartment   2.0    1.0   600                   50.0   \n",
              "38185    Bashabo  Apartment   2.0    1.0   600                   32.0   \n",
              "38186      Savar  Apartment   3.0    1.0   800                    1.0   \n",
              "38187      Demra  Apartment   3.0    2.0   750                    0.0   \n",
              "38188     Mirpur  Apartment   2.0    1.0   550                    9.0   \n",
              "\n",
              "       Restaurants  Medical Service  Parks  PricePerSqft  \n",
              "0             50.0             20.0   50.0            27  \n",
              "1             50.0             20.0   50.0            23  \n",
              "2             50.0             20.0   50.0            66  \n",
              "3             50.0             20.0   50.0            40  \n",
              "4             50.0             20.0   50.0            24  \n",
              "...            ...              ...    ...           ...  \n",
              "38184         27.0              6.0    8.0            16  \n",
              "38185         24.0              6.0   27.0            13  \n",
              "38186          0.0              0.0    0.0            11  \n",
              "38187          0.0              0.0    2.0            11  \n",
              "38188         12.0              6.0    8.0            16  \n",
              "\n",
              "[38189 rows x 10 columns]"
            ]
          },
          "execution_count": 210,
          "metadata": {},
          "output_type": "execute_result"
        }
      ],
      "source": [
        "list_add = []\n",
        "l2 = []\n",
        "for i in range(0,38189):\n",
        "    list01 = list(Primarydata['Address'][i].split(\", \"))\n",
        " \n",
        "    l2.append(Primarydata['Price'][i]//Primarydata['Size'][i])  #price/sqrt\n",
        "    \n",
        "    if Primarydata['Price'][i] <= 0:  #negative price\n",
        "        Primarydata.at[i,'Price'] = 0\n",
        "    list_add.append(list01)\n",
        "\n",
        "l_main = []\n",
        "for i in list_add:\n",
        "     l_main.append(i[len(i)-2])\n",
        "Primarydata['Address'] = l_main\n",
        "Primarydata['PricePerSqft'] = l2\n",
        "Primarydata=Primarydata.drop(labels=['Price'], axis=1)\n",
        "Primarydata"
      ]
    },
    {
      "cell_type": "markdown",
      "id": "e942f759",
      "metadata": {
        "id": "e942f759"
      },
      "source": [
        "#### Remove Duplicate Values"
      ]
    },
    {
      "cell_type": "code",
      "execution_count": null,
      "id": "71f60b1e",
      "metadata": {
        "id": "71f60b1e",
        "outputId": "93268d65-c103-477b-b918-8292778af48b"
      },
      "outputs": [
        {
          "name": "stdout",
          "output_type": "stream",
          "text": [
            "(17076, 10)\n"
          ]
        },
        {
          "data": {
            "text/html": [
              "<div>\n",
              "<style scoped>\n",
              "    .dataframe tbody tr th:only-of-type {\n",
              "        vertical-align: middle;\n",
              "    }\n",
              "\n",
              "    .dataframe tbody tr th {\n",
              "        vertical-align: top;\n",
              "    }\n",
              "\n",
              "    .dataframe thead th {\n",
              "        text-align: right;\n",
              "    }\n",
              "</style>\n",
              "<table border=\"1\" class=\"dataframe\">\n",
              "  <thead>\n",
              "    <tr style=\"text-align: right;\">\n",
              "      <th></th>\n",
              "      <th>Address</th>\n",
              "      <th>Type</th>\n",
              "      <th>Beds</th>\n",
              "      <th>Baths</th>\n",
              "      <th>Size</th>\n",
              "      <th>Educational Institute</th>\n",
              "      <th>Restaurants</th>\n",
              "      <th>Medical Service</th>\n",
              "      <th>Parks</th>\n",
              "      <th>PricePerSqft</th>\n",
              "    </tr>\n",
              "  </thead>\n",
              "  <tbody>\n",
              "    <tr>\n",
              "      <th>0</th>\n",
              "      <td>Dhanmondi</td>\n",
              "      <td>Apartment</td>\n",
              "      <td>3.0</td>\n",
              "      <td>3.0</td>\n",
              "      <td>1616</td>\n",
              "      <td>50.0</td>\n",
              "      <td>50.0</td>\n",
              "      <td>20.0</td>\n",
              "      <td>50.0</td>\n",
              "      <td>27</td>\n",
              "    </tr>\n",
              "    <tr>\n",
              "      <th>1</th>\n",
              "      <td>Dhanmondi</td>\n",
              "      <td>Apartment</td>\n",
              "      <td>4.0</td>\n",
              "      <td>4.0</td>\n",
              "      <td>3132</td>\n",
              "      <td>50.0</td>\n",
              "      <td>50.0</td>\n",
              "      <td>20.0</td>\n",
              "      <td>50.0</td>\n",
              "      <td>23</td>\n",
              "    </tr>\n",
              "    <tr>\n",
              "      <th>2</th>\n",
              "      <td>Dhanmondi</td>\n",
              "      <td>Apartment</td>\n",
              "      <td>3.0</td>\n",
              "      <td>4.0</td>\n",
              "      <td>1800</td>\n",
              "      <td>50.0</td>\n",
              "      <td>50.0</td>\n",
              "      <td>20.0</td>\n",
              "      <td>50.0</td>\n",
              "      <td>66</td>\n",
              "    </tr>\n",
              "    <tr>\n",
              "      <th>3</th>\n",
              "      <td>Dhanmondi</td>\n",
              "      <td>Apartment</td>\n",
              "      <td>3.0</td>\n",
              "      <td>3.0</td>\n",
              "      <td>1300</td>\n",
              "      <td>50.0</td>\n",
              "      <td>50.0</td>\n",
              "      <td>20.0</td>\n",
              "      <td>50.0</td>\n",
              "      <td>40</td>\n",
              "    </tr>\n",
              "    <tr>\n",
              "      <th>4</th>\n",
              "      <td>Dhanmondi</td>\n",
              "      <td>Apartment</td>\n",
              "      <td>3.0</td>\n",
              "      <td>3.0</td>\n",
              "      <td>1250</td>\n",
              "      <td>50.0</td>\n",
              "      <td>50.0</td>\n",
              "      <td>20.0</td>\n",
              "      <td>50.0</td>\n",
              "      <td>24</td>\n",
              "    </tr>\n",
              "    <tr>\n",
              "      <th>...</th>\n",
              "      <td>...</td>\n",
              "      <td>...</td>\n",
              "      <td>...</td>\n",
              "      <td>...</td>\n",
              "      <td>...</td>\n",
              "      <td>...</td>\n",
              "      <td>...</td>\n",
              "      <td>...</td>\n",
              "      <td>...</td>\n",
              "      <td>...</td>\n",
              "    </tr>\n",
              "    <tr>\n",
              "      <th>38181</th>\n",
              "      <td>Khilkhet</td>\n",
              "      <td>Apartment</td>\n",
              "      <td>1.0</td>\n",
              "      <td>1.0</td>\n",
              "      <td>350</td>\n",
              "      <td>2.0</td>\n",
              "      <td>7.0</td>\n",
              "      <td>0.0</td>\n",
              "      <td>4.0</td>\n",
              "      <td>22</td>\n",
              "    </tr>\n",
              "    <tr>\n",
              "      <th>38182</th>\n",
              "      <td>Maghbazar</td>\n",
              "      <td>Apartment</td>\n",
              "      <td>2.0</td>\n",
              "      <td>1.0</td>\n",
              "      <td>600</td>\n",
              "      <td>50.0</td>\n",
              "      <td>0.0</td>\n",
              "      <td>8.0</td>\n",
              "      <td>33.0</td>\n",
              "      <td>21</td>\n",
              "    </tr>\n",
              "    <tr>\n",
              "      <th>38186</th>\n",
              "      <td>Savar</td>\n",
              "      <td>Apartment</td>\n",
              "      <td>3.0</td>\n",
              "      <td>1.0</td>\n",
              "      <td>800</td>\n",
              "      <td>1.0</td>\n",
              "      <td>0.0</td>\n",
              "      <td>0.0</td>\n",
              "      <td>0.0</td>\n",
              "      <td>11</td>\n",
              "    </tr>\n",
              "    <tr>\n",
              "      <th>38187</th>\n",
              "      <td>Demra</td>\n",
              "      <td>Apartment</td>\n",
              "      <td>3.0</td>\n",
              "      <td>2.0</td>\n",
              "      <td>750</td>\n",
              "      <td>0.0</td>\n",
              "      <td>0.0</td>\n",
              "      <td>0.0</td>\n",
              "      <td>2.0</td>\n",
              "      <td>11</td>\n",
              "    </tr>\n",
              "    <tr>\n",
              "      <th>38188</th>\n",
              "      <td>Mirpur</td>\n",
              "      <td>Apartment</td>\n",
              "      <td>2.0</td>\n",
              "      <td>1.0</td>\n",
              "      <td>550</td>\n",
              "      <td>9.0</td>\n",
              "      <td>12.0</td>\n",
              "      <td>6.0</td>\n",
              "      <td>8.0</td>\n",
              "      <td>16</td>\n",
              "    </tr>\n",
              "  </tbody>\n",
              "</table>\n",
              "<p>17076 rows × 10 columns</p>\n",
              "</div>"
            ],
            "text/plain": [
              "         Address       Type  Beds  Baths  Size  Educational Institute  \\\n",
              "0      Dhanmondi  Apartment   3.0    3.0  1616                   50.0   \n",
              "1      Dhanmondi  Apartment   4.0    4.0  3132                   50.0   \n",
              "2      Dhanmondi  Apartment   3.0    4.0  1800                   50.0   \n",
              "3      Dhanmondi  Apartment   3.0    3.0  1300                   50.0   \n",
              "4      Dhanmondi  Apartment   3.0    3.0  1250                   50.0   \n",
              "...          ...        ...   ...    ...   ...                    ...   \n",
              "38181   Khilkhet  Apartment   1.0    1.0   350                    2.0   \n",
              "38182  Maghbazar  Apartment   2.0    1.0   600                   50.0   \n",
              "38186      Savar  Apartment   3.0    1.0   800                    1.0   \n",
              "38187      Demra  Apartment   3.0    2.0   750                    0.0   \n",
              "38188     Mirpur  Apartment   2.0    1.0   550                    9.0   \n",
              "\n",
              "       Restaurants  Medical Service  Parks  PricePerSqft  \n",
              "0             50.0             20.0   50.0            27  \n",
              "1             50.0             20.0   50.0            23  \n",
              "2             50.0             20.0   50.0            66  \n",
              "3             50.0             20.0   50.0            40  \n",
              "4             50.0             20.0   50.0            24  \n",
              "...            ...              ...    ...           ...  \n",
              "38181          7.0              0.0    4.0            22  \n",
              "38182          0.0              8.0   33.0            21  \n",
              "38186          0.0              0.0    0.0            11  \n",
              "38187          0.0              0.0    2.0            11  \n",
              "38188         12.0              6.0    8.0            16  \n",
              "\n",
              "[17076 rows x 10 columns]"
            ]
          },
          "execution_count": 211,
          "metadata": {},
          "output_type": "execute_result"
        }
      ],
      "source": [
        "Primarydata.dropna(inplace = True)\n",
        "Primarydata.drop_duplicates(inplace = True)\n",
        "print(Primarydata.shape)\n",
        "Primarydata"
      ]
    },
    {
      "cell_type": "markdown",
      "id": "7f47211c",
      "metadata": {
        "id": "7f47211c"
      },
      "source": [
        "Preprocing of data is complete. Now it is time for Encode"
      ]
    },
    {
      "cell_type": "markdown",
      "id": "12e78bf9",
      "metadata": {
        "id": "12e78bf9"
      },
      "source": [
        "### 3. Data Encode\n",
        "\n",
        "- We have converted all the catagorical value from the dataframe into numerical value."
      ]
    },
    {
      "cell_type": "code",
      "execution_count": null,
      "id": "2812b947",
      "metadata": {
        "id": "2812b947"
      },
      "outputs": [],
      "source": [
        "EncodedData=Primarydata.copy()"
      ]
    },
    {
      "cell_type": "markdown",
      "id": "dbc7bc0a",
      "metadata": {
        "id": "dbc7bc0a"
      },
      "source": [
        "#### In the dataframe only Type and address are catagorical. We are converting them into numerical value "
      ]
    },
    {
      "cell_type": "code",
      "execution_count": null,
      "id": "13c8e9f5",
      "metadata": {
        "colab": {
          "base_uri": "https://localhost:8080/",
          "height": 300
        },
        "id": "13c8e9f5",
        "outputId": "b0b9edf5-8811-48cf-9b51-7314dab6f4bc"
      },
      "outputs": [
        {
          "data": {
            "text/html": [
              "<div>\n",
              "<style scoped>\n",
              "    .dataframe tbody tr th:only-of-type {\n",
              "        vertical-align: middle;\n",
              "    }\n",
              "\n",
              "    .dataframe tbody tr th {\n",
              "        vertical-align: top;\n",
              "    }\n",
              "\n",
              "    .dataframe thead th {\n",
              "        text-align: right;\n",
              "    }\n",
              "</style>\n",
              "<table border=\"1\" class=\"dataframe\">\n",
              "  <thead>\n",
              "    <tr style=\"text-align: right;\">\n",
              "      <th></th>\n",
              "      <th>Address</th>\n",
              "      <th>Type</th>\n",
              "      <th>Beds</th>\n",
              "      <th>Baths</th>\n",
              "      <th>Size</th>\n",
              "      <th>Educational Institute</th>\n",
              "      <th>Restaurants</th>\n",
              "      <th>Medical Service</th>\n",
              "      <th>Parks</th>\n",
              "      <th>PricePerSqft</th>\n",
              "    </tr>\n",
              "  </thead>\n",
              "  <tbody>\n",
              "    <tr>\n",
              "      <th>count</th>\n",
              "      <td>17076.000000</td>\n",
              "      <td>17076.000000</td>\n",
              "      <td>17076.000000</td>\n",
              "      <td>17076.000000</td>\n",
              "      <td>17076.000000</td>\n",
              "      <td>17076.000000</td>\n",
              "      <td>17076.000000</td>\n",
              "      <td>17076.000000</td>\n",
              "      <td>17076.000000</td>\n",
              "      <td>17076.000000</td>\n",
              "    </tr>\n",
              "    <tr>\n",
              "      <th>mean</th>\n",
              "      <td>18.109393</td>\n",
              "      <td>0.006325</td>\n",
              "      <td>2.556161</td>\n",
              "      <td>2.333392</td>\n",
              "      <td>1102.618705</td>\n",
              "      <td>28.805282</td>\n",
              "      <td>31.359159</td>\n",
              "      <td>12.261829</td>\n",
              "      <td>17.578531</td>\n",
              "      <td>18.494085</td>\n",
              "    </tr>\n",
              "    <tr>\n",
              "      <th>std</th>\n",
              "      <td>16.774312</td>\n",
              "      <td>0.108042</td>\n",
              "      <td>0.909785</td>\n",
              "      <td>0.921613</td>\n",
              "      <td>671.730563</td>\n",
              "      <td>16.993906</td>\n",
              "      <td>17.106865</td>\n",
              "      <td>14.335009</td>\n",
              "      <td>13.006735</td>\n",
              "      <td>7.464942</td>\n",
              "    </tr>\n",
              "    <tr>\n",
              "      <th>min</th>\n",
              "      <td>0.000000</td>\n",
              "      <td>0.000000</td>\n",
              "      <td>1.000000</td>\n",
              "      <td>1.000000</td>\n",
              "      <td>250.000000</td>\n",
              "      <td>0.000000</td>\n",
              "      <td>0.000000</td>\n",
              "      <td>0.000000</td>\n",
              "      <td>0.000000</td>\n",
              "      <td>5.000000</td>\n",
              "    </tr>\n",
              "    <tr>\n",
              "      <th>25%</th>\n",
              "      <td>6.000000</td>\n",
              "      <td>0.000000</td>\n",
              "      <td>2.000000</td>\n",
              "      <td>2.000000</td>\n",
              "      <td>700.000000</td>\n",
              "      <td>16.000000</td>\n",
              "      <td>17.000000</td>\n",
              "      <td>2.000000</td>\n",
              "      <td>8.000000</td>\n",
              "      <td>15.000000</td>\n",
              "    </tr>\n",
              "    <tr>\n",
              "      <th>50%</th>\n",
              "      <td>11.000000</td>\n",
              "      <td>0.000000</td>\n",
              "      <td>3.000000</td>\n",
              "      <td>2.000000</td>\n",
              "      <td>1000.000000</td>\n",
              "      <td>26.000000</td>\n",
              "      <td>33.000000</td>\n",
              "      <td>6.000000</td>\n",
              "      <td>14.000000</td>\n",
              "      <td>17.000000</td>\n",
              "    </tr>\n",
              "    <tr>\n",
              "      <th>75%</th>\n",
              "      <td>29.000000</td>\n",
              "      <td>0.000000</td>\n",
              "      <td>3.000000</td>\n",
              "      <td>3.000000</td>\n",
              "      <td>1300.000000</td>\n",
              "      <td>50.000000</td>\n",
              "      <td>50.000000</td>\n",
              "      <td>17.000000</td>\n",
              "      <td>22.000000</td>\n",
              "      <td>21.000000</td>\n",
              "    </tr>\n",
              "    <tr>\n",
              "      <th>max</th>\n",
              "      <td>70.000000</td>\n",
              "      <td>3.000000</td>\n",
              "      <td>63.000000</td>\n",
              "      <td>10.000000</td>\n",
              "      <td>30898.000000</td>\n",
              "      <td>60.000000</td>\n",
              "      <td>63.000000</td>\n",
              "      <td>50.000000</td>\n",
              "      <td>50.000000</td>\n",
              "      <td>200.000000</td>\n",
              "    </tr>\n",
              "  </tbody>\n",
              "</table>\n",
              "</div>"
            ],
            "text/plain": [
              "            Address          Type          Beds         Baths          Size  \\\n",
              "count  17076.000000  17076.000000  17076.000000  17076.000000  17076.000000   \n",
              "mean      18.109393      0.006325      2.556161      2.333392   1102.618705   \n",
              "std       16.774312      0.108042      0.909785      0.921613    671.730563   \n",
              "min        0.000000      0.000000      1.000000      1.000000    250.000000   \n",
              "25%        6.000000      0.000000      2.000000      2.000000    700.000000   \n",
              "50%       11.000000      0.000000      3.000000      2.000000   1000.000000   \n",
              "75%       29.000000      0.000000      3.000000      3.000000   1300.000000   \n",
              "max       70.000000      3.000000     63.000000     10.000000  30898.000000   \n",
              "\n",
              "       Educational Institute   Restaurants  Medical Service         Parks  \\\n",
              "count           17076.000000  17076.000000     17076.000000  17076.000000   \n",
              "mean               28.805282     31.359159        12.261829     17.578531   \n",
              "std                16.993906     17.106865        14.335009     13.006735   \n",
              "min                 0.000000      0.000000         0.000000      0.000000   \n",
              "25%                16.000000     17.000000         2.000000      8.000000   \n",
              "50%                26.000000     33.000000         6.000000     14.000000   \n",
              "75%                50.000000     50.000000        17.000000     22.000000   \n",
              "max                60.000000     63.000000        50.000000     50.000000   \n",
              "\n",
              "       PricePerSqft  \n",
              "count  17076.000000  \n",
              "mean      18.494085  \n",
              "std        7.464942  \n",
              "min        5.000000  \n",
              "25%       15.000000  \n",
              "50%       17.000000  \n",
              "75%       21.000000  \n",
              "max      200.000000  "
            ]
          },
          "execution_count": 213,
          "metadata": {},
          "output_type": "execute_result"
        }
      ],
      "source": [
        "EncodedData['Type']=pd.factorize(EncodedData['Type'])[0]\n",
        "EncodedData['Address']=pd.factorize(EncodedData['Address'])[0]\n",
        "EncodedData.describe()\n"
      ]
    },
    {
      "cell_type": "markdown",
      "id": "0a01f6d5",
      "metadata": {
        "id": "0a01f6d5"
      },
      "source": [
        "Encoding of data is complete. Now it is time for Explore the data"
      ]
    },
    {
      "cell_type": "markdown",
      "id": "a7fba837",
      "metadata": {
        "id": "a7fba837"
      },
      "source": [
        "### 4. Exploratory Data\n",
        "\n",
        "Here we will explore all the features by using the following chart. At first we will visualize individual features and later on on we will visualize all of them together\n",
        "We will use following chart to visualize all the features\n",
        "\n",
        "1. Countplot\n",
        "2. Boxplot\n",
        "3. Distribution plot\n",
        "4. Regplot\n"
      ]
    },
    {
      "cell_type": "markdown",
      "id": "eb7a5e42",
      "metadata": {
        "id": "eb7a5e42"
      },
      "source": [
        "#### Using Countplot to visualize individual features"
      ]
    },
    {
      "cell_type": "code",
      "execution_count": null,
      "id": "ab97fbfa",
      "metadata": {
        "colab": {
          "base_uri": "https://localhost:8080/",
          "height": 241
        },
        "id": "ab97fbfa",
        "outputId": "3cd59ed7-353b-4b09-9d39-a9cf981101b4"
      },
      "outputs": [
        {
          "data": {
            "image/png": "[encoded data removed]",
            "text/plain": [
              "<Figure size 360x216 with 1 Axes>"
            ]
          },
          "metadata": {
            "needs_background": "light"
          },
          "output_type": "display_data"
        }
      ],
      "source": [
        "#Count of Type of house\n",
        "ax = plt.figure(figsize = (5,3))\n",
        "sns.countplot(x ='Type', data = EncodedData)\n",
        "plt.title(\"Type of houses\")\n",
        "plt.show()"
      ]
    },
    {
      "cell_type": "markdown",
      "id": "3d340d23",
      "metadata": {
        "id": "3d340d23"
      },
      "source": [
        "Majority Houses are Apartment Type others are almost ignorable."
      ]
    },
    {
      "cell_type": "code",
      "execution_count": null,
      "id": "20fad8c3",
      "metadata": {
        "colab": {
          "base_uri": "https://localhost:8080/",
          "height": 241
        },
        "id": "20fad8c3",
        "outputId": "5a634c9f-fe0a-42a4-fda6-d83e95165b1b",
        "scrolled": true
      },
      "outputs": [
        {
          "data": {
            "image/png": "[encoded data removed]",
            "text/plain": [
              "<Figure size 360x216 with 1 Axes>"
            ]
          },
          "metadata": {
            "needs_background": "light"
          },
          "output_type": "display_data"
        }
      ],
      "source": [
        "#Count Number of Bedrooms\n",
        "ax = plt.figure(figsize = (5,3))\n",
        "sns.countplot(x ='Beds', data = EncodedData)\n",
        "plt.title(\"Number of Bedrooms\")\n",
        "plt.show()"
      ]
    },
    {
      "cell_type": "markdown",
      "id": "4f992e39",
      "metadata": {
        "id": "4f992e39"
      },
      "source": [
        "Majority Houses have 2 and 3 bedrooms only few have 1 and 4 bedrooms and 5 bedrooms is rare."
      ]
    },
    {
      "cell_type": "code",
      "execution_count": null,
      "id": "0b91293a",
      "metadata": {
        "colab": {
          "base_uri": "https://localhost:8080/",
          "height": 241
        },
        "id": "0b91293a",
        "outputId": "2cab8e94-3df2-47ba-89ea-e0481d18022c",
        "scrolled": false
      },
      "outputs": [
        {
          "data": {
            "image/png": "[encoded data removed]",
            "text/plain": [
              "<Figure size 360x216 with 1 Axes>"
            ]
          },
          "metadata": {
            "needs_background": "light"
          },
          "output_type": "display_data"
        }
      ],
      "source": [
        "#Count Number of Bathrooms\n",
        "ax = plt.figure(figsize = (5,3))\n",
        "sns.countplot(x ='Baths', data = EncodedData)\n",
        "plt.title(\"Number of Bathrooms\")\n",
        "plt.show()"
      ]
    },
    {
      "cell_type": "code",
      "execution_count": null,
      "id": "bae7dd0c",
      "metadata": {
        "colab": {
          "base_uri": "https://localhost:8080/",
          "height": 270
        },
        "id": "bae7dd0c",
        "outputId": "ceccc9b0-6725-4c3d-ef67-eefffca1633d",
        "scrolled": false
      },
      "outputs": [
        {
          "data": {
            "image/png": "[encoded data removed]",
            "text/plain": [
              "<Figure size 2160x360 with 1 Axes>"
            ]
          },
          "metadata": {
            "needs_background": "light"
          },
          "output_type": "display_data"
        }
      ],
      "source": [
        "#Count Number of Educational Institute\n",
        "ax = plt.figure(figsize = (30,5))\n",
        "sns.countplot(x ='Educational Institute', data = EncodedData)\n",
        "plt.title(\"Number of Educational Institute\")\n",
        "plt.show()"
      ]
    },
    {
      "cell_type": "code",
      "execution_count": null,
      "id": "4a0e3eb6",
      "metadata": {
        "colab": {
          "base_uri": "https://localhost:8080/",
          "height": 271
        },
        "id": "4a0e3eb6",
        "outputId": "e5d016df-b767-447a-dccc-0bb43007c62d",
        "scrolled": false
      },
      "outputs": [
        {
          "data": {
            "image/png": "[encoded data removed]",
            "text/plain": [
              "<Figure size 2160x360 with 1 Axes>"
            ]
          },
          "metadata": {
            "needs_background": "light"
          },
          "output_type": "display_data"
        }
      ],
      "source": [
        "#Count Number of Parks\n",
        "ax = plt.figure(figsize = (30,5))\n",
        "sns.countplot(x ='Parks', data = EncodedData)\n",
        "plt.title(\"Number of Parks\")\n",
        "plt.show()"
      ]
    },
    {
      "cell_type": "code",
      "execution_count": null,
      "id": "4138af11",
      "metadata": {
        "colab": {
          "base_uri": "https://localhost:8080/",
          "height": 271
        },
        "id": "4138af11",
        "outputId": "ef5bd4e9-9921-4f4f-e8b6-c0a5fb575af8",
        "scrolled": false
      },
      "outputs": [
        {
          "data": {
            "image/png": "[encoded data removed]",
            "text/plain": [
              "<Figure size 2160x360 with 1 Axes>"
            ]
          },
          "metadata": {
            "needs_background": "light"
          },
          "output_type": "display_data"
        }
      ],
      "source": [
        "#Count Number of Restaurants\n",
        "ax = plt.figure(figsize = (30,5))\n",
        "sns.countplot(x ='Restaurants', data = EncodedData)\n",
        "plt.title(\"Number of Restaurants\")\n",
        "plt.show()"
      ]
    },
    {
      "cell_type": "markdown",
      "id": "db29139c",
      "metadata": {
        "id": "db29139c"
      },
      "source": [
        "."
      ]
    },
    {
      "cell_type": "code",
      "execution_count": null,
      "id": "4e30c130",
      "metadata": {
        "colab": {
          "base_uri": "https://localhost:8080/",
          "height": 271
        },
        "id": "4e30c130",
        "outputId": "af3db56f-9bb4-4260-80c0-0b44dd65b3c3",
        "scrolled": false
      },
      "outputs": [
        {
          "data": {
            "image/png": "[encoded data removed]",
            "text/plain": [
              "<Figure size 2160x360 with 1 Axes>"
            ]
          },
          "metadata": {
            "needs_background": "light"
          },
          "output_type": "display_data"
        }
      ],
      "source": [
        "#Count Number of Medical Service\n",
        "ax = plt.figure(figsize = (30,5))\n",
        "sns.countplot(x ='Medical Service', data = EncodedData)\n",
        "plt.title(\"Number of Medical Service\")\n",
        "plt.show()"
      ]
    },
    {
      "cell_type": "markdown",
      "id": "2c6c4973",
      "metadata": {
        "id": "2c6c4973"
      },
      "source": [
        "#### Using Boxplot to visualize all Data"
      ]
    },
    {
      "cell_type": "code",
      "execution_count": null,
      "id": "9bc6f025",
      "metadata": {
        "colab": {
          "base_uri": "https://localhost:8080/",
          "height": 681
        },
        "id": "9bc6f025",
        "outputId": "8081b263-b412-477a-f32c-db4fff99865b",
        "scrolled": false
      },
      "outputs": [
        {
          "data": {
            "image/png": "[encoded data removed]",
            "text/plain": [
              "<Figure size 1440x720 with 10 Axes>"
            ]
          },
          "metadata": {
            "needs_background": "light"
          },
          "output_type": "display_data"
        }
      ],
      "source": [
        "fig, axs = plt.subplots(ncols=5, nrows=2, figsize=(20, 10))\n",
        "index = 0\n",
        "axs = axs.flatten()\n",
        "for k,v in EncodedData.items():\n",
        "    sns.boxplot(y=k, data=EncodedData, ax=axs[index])\n",
        "    index += 1\n",
        "plt.tight_layout(pad=0.4, w_pad=0.5, h_pad=5.0)"
      ]
    },
    {
      "cell_type": "markdown",
      "id": "80cbe70f",
      "metadata": {
        "id": "80cbe70f"
      },
      "source": [
        "#### Using Subplot to visualize all Data"
      ]
    },
    {
      "cell_type": "code",
      "execution_count": null,
      "id": "7847c694",
      "metadata": {
        "colab": {
          "base_uri": "https://localhost:8080/",
          "height": 1000
        },
        "id": "7847c694",
        "outputId": "3350cae2-8e87-4475-fe8c-2f89799f2e3a",
        "scrolled": false
      },
      "outputs": [
        {
          "name": "stderr",
          "output_type": "stream",
          "text": [
            "C:\\Users\\saifa\\anaconda3\\lib\\site-packages\\seaborn\\distributions.py:2557: FutureWarning: `distplot` is a deprecated function and will be removed in a future version. Please adapt your code to use either `displot` (a figure-level function with similar flexibility) or `histplot` (an axes-level function for histograms).\n",
            "  warnings.warn(msg, FutureWarning)\n",
            "C:\\Users\\saifa\\anaconda3\\lib\\site-packages\\seaborn\\distributions.py:2557: FutureWarning: `distplot` is a deprecated function and will be removed in a future version. Please adapt your code to use either `displot` (a figure-level function with similar flexibility) or `histplot` (an axes-level function for histograms).\n",
            "  warnings.warn(msg, FutureWarning)\n",
            "C:\\Users\\saifa\\anaconda3\\lib\\site-packages\\seaborn\\distributions.py:2557: FutureWarning: `distplot` is a deprecated function and will be removed in a future version. Please adapt your code to use either `displot` (a figure-level function with similar flexibility) or `histplot` (an axes-level function for histograms).\n",
            "  warnings.warn(msg, FutureWarning)\n",
            "C:\\Users\\saifa\\anaconda3\\lib\\site-packages\\seaborn\\distributions.py:2557: FutureWarning: `distplot` is a deprecated function and will be removed in a future version. Please adapt your code to use either `displot` (a figure-level function with similar flexibility) or `histplot` (an axes-level function for histograms).\n",
            "  warnings.warn(msg, FutureWarning)\n",
            "C:\\Users\\saifa\\anaconda3\\lib\\site-packages\\seaborn\\distributions.py:2557: FutureWarning: `distplot` is a deprecated function and will be removed in a future version. Please adapt your code to use either `displot` (a figure-level function with similar flexibility) or `histplot` (an axes-level function for histograms).\n",
            "  warnings.warn(msg, FutureWarning)\n",
            "C:\\Users\\saifa\\anaconda3\\lib\\site-packages\\seaborn\\distributions.py:2557: FutureWarning: `distplot` is a deprecated function and will be removed in a future version. Please adapt your code to use either `displot` (a figure-level function with similar flexibility) or `histplot` (an axes-level function for histograms).\n",
            "  warnings.warn(msg, FutureWarning)\n",
            "C:\\Users\\saifa\\anaconda3\\lib\\site-packages\\seaborn\\distributions.py:2557: FutureWarning: `distplot` is a deprecated function and will be removed in a future version. Please adapt your code to use either `displot` (a figure-level function with similar flexibility) or `histplot` (an axes-level function for histograms).\n",
            "  warnings.warn(msg, FutureWarning)\n",
            "C:\\Users\\saifa\\anaconda3\\lib\\site-packages\\seaborn\\distributions.py:2557: FutureWarning: `distplot` is a deprecated function and will be removed in a future version. Please adapt your code to use either `displot` (a figure-level function with similar flexibility) or `histplot` (an axes-level function for histograms).\n",
            "  warnings.warn(msg, FutureWarning)\n",
            "C:\\Users\\saifa\\anaconda3\\lib\\site-packages\\seaborn\\distributions.py:2557: FutureWarning: `distplot` is a deprecated function and will be removed in a future version. Please adapt your code to use either `displot` (a figure-level function with similar flexibility) or `histplot` (an axes-level function for histograms).\n",
            "  warnings.warn(msg, FutureWarning)\n",
            "C:\\Users\\saifa\\anaconda3\\lib\\site-packages\\seaborn\\distributions.py:2557: FutureWarning: `distplot` is a deprecated function and will be removed in a future version. Please adapt your code to use either `displot` (a figure-level function with similar flexibility) or `histplot` (an axes-level function for histograms).\n",
            "  warnings.warn(msg, FutureWarning)\n"
          ]
        },
        {
          "data": {
            "image/png": "[encoded data removed]",
            "text/plain": [
              "<Figure size 1440x720 with 10 Axes>"
            ]
          },
          "metadata": {
            "needs_background": "light"
          },
          "output_type": "display_data"
        }
      ],
      "source": [
        "fig, axs = plt.subplots(ncols=5, nrows=2, figsize=(20, 10))\n",
        "index = 0\n",
        "axs = axs.flatten()\n",
        "for k,v in EncodedData.items():\n",
        "    sns.distplot(v, ax=axs[index])\n",
        "    index += 1\n",
        "plt.tight_layout(pad=0.4, w_pad=0.5, h_pad=5.0)"
      ]
    },
    {
      "cell_type": "markdown",
      "id": "fe40ed96",
      "metadata": {
        "id": "fe40ed96"
      },
      "source": [
        "#### Price density visualizing using Distribution plot"
      ]
    },
    {
      "cell_type": "code",
      "execution_count": null,
      "id": "55188b4f",
      "metadata": {
        "colab": {
          "base_uri": "https://localhost:8080/",
          "height": 660
        },
        "id": "55188b4f",
        "outputId": "c2fba7cc-903c-4060-f8f5-e2afe418ecba",
        "scrolled": false
      },
      "outputs": [
        {
          "name": "stderr",
          "output_type": "stream",
          "text": [
            "C:\\Users\\saifa\\anaconda3\\lib\\site-packages\\seaborn\\distributions.py:2557: FutureWarning: `distplot` is a deprecated function and will be removed in a future version. Please adapt your code to use either `displot` (a figure-level function with similar flexibility) or `histplot` (an axes-level function for histograms).\n",
            "  warnings.warn(msg, FutureWarning)\n"
          ]
        },
        {
          "data": {
            "text/plain": [
              "<AxesSubplot:xlabel='PricePerSqft', ylabel='Density'>"
            ]
          },
          "execution_count": 223,
          "metadata": {},
          "output_type": "execute_result"
        },
        {
          "data": {
            "image/png": "[encoded data removed]",
            "text/plain": [
              "<Figure size 1500x600 with 1 Axes>"
            ]
          },
          "metadata": {
            "needs_background": "light"
          },
          "output_type": "display_data"
        }
      ],
      "source": [
        "plt.figure(figsize=(10,4),dpi=150)\n",
        "sns.distplot(EncodedData['PricePerSqft'],hist_kws=dict(edgecolor='red' ,linewidth=3),color='green')"
      ]
    },
    {
      "cell_type": "markdown",
      "id": "50e007b1",
      "metadata": {
        "id": "50e007b1"
      },
      "source": [
        "#### Visualize all the features against price using Reg plot"
      ]
    },
    {
      "cell_type": "code",
      "execution_count": null,
      "id": "8332b30d",
      "metadata": {
        "colab": {
          "base_uri": "https://localhost:8080/",
          "height": 681
        },
        "id": "8332b30d",
        "outputId": "8cbfb649-5506-4167-9c0d-54645955c1c9",
        "scrolled": false
      },
      "outputs": [
        {
          "data": {
            "image/png": "[encoded data removed]",
            "text/plain": [
              "<Figure size 1440x720 with 8 Axes>"
            ]
          },
          "metadata": {
            "needs_background": "light"
          },
          "output_type": "display_data"
        }
      ],
      "source": [
        "from sklearn import preprocessing\n",
        "# Let's scale the columns before plotting them against Price\n",
        "min_max_scaler = preprocessing.MinMaxScaler()\n",
        "column_sels = ['Type', 'Beds', 'Baths', 'Size', 'Educational Institute','Restaurants', 'Medical Service', 'Parks']\n",
        "x = EncodedData.loc[:,column_sels]\n",
        "y = EncodedData['PricePerSqft']\n",
        "x = pd.DataFrame(data=min_max_scaler.fit_transform(x), columns=column_sels)\n",
        "fig, axs = plt.subplots(ncols=4, nrows=2, figsize=(20, 10))\n",
        "index = 0\n",
        "axs = axs.flatten()\n",
        "for i, k in enumerate(column_sels):\n",
        "    sns.regplot(y=y, x=x[k], ax=axs[i])\n",
        "plt.tight_layout(pad=0.4, w_pad=0.5, h_pad=5.0)"
      ]
    },
    {
      "cell_type": "markdown",
      "id": "99f8cc59",
      "metadata": {
        "id": "99f8cc59"
      },
      "source": [
        "### 5. Data Cleaning\n",
        "\n",
        "- At first we cheacked if there are any missing value\n",
        "- We counted all the missing values\n",
        "- We replaced all the missing value with interpolation to find missing value with help of its neighbors"
      ]
    },
    {
      "cell_type": "code",
      "execution_count": null,
      "id": "a0fc0d28",
      "metadata": {
        "id": "a0fc0d28"
      },
      "outputs": [],
      "source": [
        "CleanedData=EncodedData.copy()"
      ]
    },
    {
      "cell_type": "markdown",
      "id": "e36c3770",
      "metadata": {
        "id": "e36c3770"
      },
      "source": [
        "#### Checking if there is any null value"
      ]
    },
    {
      "cell_type": "code",
      "execution_count": null,
      "id": "0e404d77",
      "metadata": {
        "colab": {
          "base_uri": "https://localhost:8080/"
        },
        "id": "0e404d77",
        "outputId": "09adcbeb-afe2-43dd-8560-75295dae40a9"
      },
      "outputs": [
        {
          "data": {
            "text/plain": [
              "Address                  False\n",
              "Type                     False\n",
              "Beds                     False\n",
              "Baths                    False\n",
              "Size                     False\n",
              "Educational Institute    False\n",
              "Restaurants              False\n",
              "Medical Service          False\n",
              "Parks                    False\n",
              "PricePerSqft             False\n",
              "dtype: bool"
            ]
          },
          "execution_count": 226,
          "metadata": {},
          "output_type": "execute_result"
        }
      ],
      "source": [
        "CleanedData.isnull().any()"
      ]
    },
    {
      "cell_type": "markdown",
      "id": "13b2c87d",
      "metadata": {
        "id": "13b2c87d"
      },
      "source": [
        "#### Counting all the null value"
      ]
    },
    {
      "cell_type": "code",
      "execution_count": null,
      "id": "ae40899d",
      "metadata": {
        "colab": {
          "base_uri": "https://localhost:8080/"
        },
        "id": "ae40899d",
        "outputId": "4da83448-45ac-4796-9e52-7a9b7278ec91"
      },
      "outputs": [
        {
          "data": {
            "text/plain": [
              "Address                  0\n",
              "Type                     0\n",
              "Beds                     0\n",
              "Baths                    0\n",
              "Size                     0\n",
              "Educational Institute    0\n",
              "Restaurants              0\n",
              "Medical Service          0\n",
              "Parks                    0\n",
              "PricePerSqft             0\n",
              "dtype: int64"
            ]
          },
          "execution_count": 227,
          "metadata": {},
          "output_type": "execute_result"
        }
      ],
      "source": [
        "CleanedData.isnull().sum()"
      ]
    },
    {
      "cell_type": "markdown",
      "id": "93e92145",
      "metadata": {
        "id": "93e92145"
      },
      "source": [
        "#### Using interpolation to find missing value"
      ]
    },
    {
      "cell_type": "code",
      "execution_count": null,
      "id": "bf88fa62",
      "metadata": {
        "id": "bf88fa62"
      },
      "outputs": [],
      "source": [
        "CleanedData=EncodedData.interpolate()"
      ]
    },
    {
      "cell_type": "markdown",
      "id": "a99d0958",
      "metadata": {
        "id": "a99d0958"
      },
      "source": [
        "#### Checking if there are any missing values"
      ]
    },
    {
      "cell_type": "code",
      "execution_count": null,
      "id": "fa55007c",
      "metadata": {
        "colab": {
          "base_uri": "https://localhost:8080/"
        },
        "id": "fa55007c",
        "outputId": "edddc93a-9253-402d-d9ad-bbfd9d3db899"
      },
      "outputs": [
        {
          "data": {
            "text/plain": [
              "Address                  0\n",
              "Type                     0\n",
              "Beds                     0\n",
              "Baths                    0\n",
              "Size                     0\n",
              "Educational Institute    0\n",
              "Restaurants              0\n",
              "Medical Service          0\n",
              "Parks                    0\n",
              "PricePerSqft             0\n",
              "dtype: int64"
            ]
          },
          "execution_count": 229,
          "metadata": {},
          "output_type": "execute_result"
        }
      ],
      "source": [
        "CleanedData.isnull().sum()"
      ]
    },
    {
      "cell_type": "markdown",
      "id": "57321bde",
      "metadata": {
        "id": "57321bde"
      },
      "source": [
        "### 6. Features Selection"
      ]
    },
    {
      "cell_type": "markdown",
      "id": "f9b5216b",
      "metadata": {
        "id": "f9b5216b"
      },
      "source": [
        "#### Heat map where it is showing all the corelation between each and every features (Target value is also included)"
      ]
    },
    {
      "cell_type": "code",
      "execution_count": null,
      "id": "6bda9541",
      "metadata": {
        "colab": {
          "base_uri": "https://localhost:8080/",
          "height": 722
        },
        "id": "6bda9541",
        "outputId": "1d4de83a-9219-4868-f31c-c0ce2999e619",
        "scrolled": true
      },
      "outputs": [
        {
          "data": {
            "text/plain": [
              "<AxesSubplot:>"
            ]
          },
          "execution_count": 230,
          "metadata": {},
          "output_type": "execute_result"
        },
        {
          "data": {
            "image/png": "[encoded data removed]",
            "text/plain": [
              "<Figure size 1584x864 with 2 Axes>"
            ]
          },
          "metadata": {
            "needs_background": "light"
          },
          "output_type": "display_data"
        }
      ],
      "source": [
        "plt.figure(figsize=(22,12))\n",
        "sns.heatmap(CleanedData.corr(),annot=True,cmap='Blues')"
      ]
    },
    {
      "cell_type": "markdown",
      "id": "ed4cac55",
      "metadata": {
        "id": "ed4cac55"
      },
      "source": [
        "#### Visualizing the co relation with price for selecting the features"
      ]
    },
    {
      "cell_type": "code",
      "execution_count": null,
      "id": "343d7b16",
      "metadata": {
        "colab": {
          "base_uri": "https://localhost:8080/",
          "height": 736
        },
        "id": "343d7b16",
        "outputId": "fa9e97dc-d9ba-4ec7-b0ce-099b4804ad85",
        "scrolled": false
      },
      "outputs": [
        {
          "data": {
            "text/plain": [
              "<AxesSubplot:title={'center':'Correlation with Price '}>"
            ]
          },
          "execution_count": 231,
          "metadata": {},
          "output_type": "execute_result"
        },
        {
          "data": {
            "image/png": "[encoded data removed]",
            "text/plain": [
              "<Figure size 1440x720 with 1 Axes>"
            ]
          },
          "metadata": {
            "needs_background": "light"
          },
          "output_type": "display_data"
        }
      ],
      "source": [
        "CleanedData.corrwith(CleanedData.PricePerSqft).plot.bar(figsize=(20,10),title=\"Correlation with Price \",fontsize=15,rot=45,grid=True)"
      ]
    },
    {
      "cell_type": "markdown",
      "id": "9bd8a13a",
      "metadata": {
        "id": "9bd8a13a"
      },
      "source": [
        "#### Dropping all the data which has less corelation on the price"
      ]
    },
    {
      "cell_type": "code",
      "execution_count": null,
      "id": "344926c4",
      "metadata": {
        "colab": {
          "base_uri": "https://localhost:8080/",
          "height": 424
        },
        "id": "344926c4",
        "outputId": "2cf937bf-cd49-4a29-8ddf-91f5ca298a98"
      },
      "outputs": [
        {
          "data": {
            "text/html": [
              "<div>\n",
              "<style scoped>\n",
              "    .dataframe tbody tr th:only-of-type {\n",
              "        vertical-align: middle;\n",
              "    }\n",
              "\n",
              "    .dataframe tbody tr th {\n",
              "        vertical-align: top;\n",
              "    }\n",
              "\n",
              "    .dataframe thead th {\n",
              "        text-align: right;\n",
              "    }\n",
              "</style>\n",
              "<table border=\"1\" class=\"dataframe\">\n",
              "  <thead>\n",
              "    <tr style=\"text-align: right;\">\n",
              "      <th></th>\n",
              "      <th>Type</th>\n",
              "      <th>Beds</th>\n",
              "      <th>Baths</th>\n",
              "      <th>Size</th>\n",
              "      <th>Educational Institute</th>\n",
              "      <th>Restaurants</th>\n",
              "      <th>Medical Service</th>\n",
              "      <th>Parks</th>\n",
              "      <th>PricePerSqft</th>\n",
              "    </tr>\n",
              "  </thead>\n",
              "  <tbody>\n",
              "    <tr>\n",
              "      <th>0</th>\n",
              "      <td>0</td>\n",
              "      <td>3.0</td>\n",
              "      <td>3.0</td>\n",
              "      <td>1616</td>\n",
              "      <td>50.0</td>\n",
              "      <td>50.0</td>\n",
              "      <td>20.0</td>\n",
              "      <td>50.0</td>\n",
              "      <td>27</td>\n",
              "    </tr>\n",
              "    <tr>\n",
              "      <th>1</th>\n",
              "      <td>0</td>\n",
              "      <td>4.0</td>\n",
              "      <td>4.0</td>\n",
              "      <td>3132</td>\n",
              "      <td>50.0</td>\n",
              "      <td>50.0</td>\n",
              "      <td>20.0</td>\n",
              "      <td>50.0</td>\n",
              "      <td>23</td>\n",
              "    </tr>\n",
              "    <tr>\n",
              "      <th>2</th>\n",
              "      <td>0</td>\n",
              "      <td>3.0</td>\n",
              "      <td>4.0</td>\n",
              "      <td>1800</td>\n",
              "      <td>50.0</td>\n",
              "      <td>50.0</td>\n",
              "      <td>20.0</td>\n",
              "      <td>50.0</td>\n",
              "      <td>66</td>\n",
              "    </tr>\n",
              "    <tr>\n",
              "      <th>3</th>\n",
              "      <td>0</td>\n",
              "      <td>3.0</td>\n",
              "      <td>3.0</td>\n",
              "      <td>1300</td>\n",
              "      <td>50.0</td>\n",
              "      <td>50.0</td>\n",
              "      <td>20.0</td>\n",
              "      <td>50.0</td>\n",
              "      <td>40</td>\n",
              "    </tr>\n",
              "    <tr>\n",
              "      <th>4</th>\n",
              "      <td>0</td>\n",
              "      <td>3.0</td>\n",
              "      <td>3.0</td>\n",
              "      <td>1250</td>\n",
              "      <td>50.0</td>\n",
              "      <td>50.0</td>\n",
              "      <td>20.0</td>\n",
              "      <td>50.0</td>\n",
              "      <td>24</td>\n",
              "    </tr>\n",
              "    <tr>\n",
              "      <th>...</th>\n",
              "      <td>...</td>\n",
              "      <td>...</td>\n",
              "      <td>...</td>\n",
              "      <td>...</td>\n",
              "      <td>...</td>\n",
              "      <td>...</td>\n",
              "      <td>...</td>\n",
              "      <td>...</td>\n",
              "      <td>...</td>\n",
              "    </tr>\n",
              "    <tr>\n",
              "      <th>38181</th>\n",
              "      <td>0</td>\n",
              "      <td>1.0</td>\n",
              "      <td>1.0</td>\n",
              "      <td>350</td>\n",
              "      <td>2.0</td>\n",
              "      <td>7.0</td>\n",
              "      <td>0.0</td>\n",
              "      <td>4.0</td>\n",
              "      <td>22</td>\n",
              "    </tr>\n",
              "    <tr>\n",
              "      <th>38182</th>\n",
              "      <td>0</td>\n",
              "      <td>2.0</td>\n",
              "      <td>1.0</td>\n",
              "      <td>600</td>\n",
              "      <td>50.0</td>\n",
              "      <td>0.0</td>\n",
              "      <td>8.0</td>\n",
              "      <td>33.0</td>\n",
              "      <td>21</td>\n",
              "    </tr>\n",
              "    <tr>\n",
              "      <th>38186</th>\n",
              "      <td>0</td>\n",
              "      <td>3.0</td>\n",
              "      <td>1.0</td>\n",
              "      <td>800</td>\n",
              "      <td>1.0</td>\n",
              "      <td>0.0</td>\n",
              "      <td>0.0</td>\n",
              "      <td>0.0</td>\n",
              "      <td>11</td>\n",
              "    </tr>\n",
              "    <tr>\n",
              "      <th>38187</th>\n",
              "      <td>0</td>\n",
              "      <td>3.0</td>\n",
              "      <td>2.0</td>\n",
              "      <td>750</td>\n",
              "      <td>0.0</td>\n",
              "      <td>0.0</td>\n",
              "      <td>0.0</td>\n",
              "      <td>2.0</td>\n",
              "      <td>11</td>\n",
              "    </tr>\n",
              "    <tr>\n",
              "      <th>38188</th>\n",
              "      <td>0</td>\n",
              "      <td>2.0</td>\n",
              "      <td>1.0</td>\n",
              "      <td>550</td>\n",
              "      <td>9.0</td>\n",
              "      <td>12.0</td>\n",
              "      <td>6.0</td>\n",
              "      <td>8.0</td>\n",
              "      <td>16</td>\n",
              "    </tr>\n",
              "  </tbody>\n",
              "</table>\n",
              "<p>17076 rows × 9 columns</p>\n",
              "</div>"
            ],
            "text/plain": [
              "       Type  Beds  Baths  Size  Educational Institute  Restaurants  \\\n",
              "0         0   3.0    3.0  1616                   50.0         50.0   \n",
              "1         0   4.0    4.0  3132                   50.0         50.0   \n",
              "2         0   3.0    4.0  1800                   50.0         50.0   \n",
              "3         0   3.0    3.0  1300                   50.0         50.0   \n",
              "4         0   3.0    3.0  1250                   50.0         50.0   \n",
              "...     ...   ...    ...   ...                    ...          ...   \n",
              "38181     0   1.0    1.0   350                    2.0          7.0   \n",
              "38182     0   2.0    1.0   600                   50.0          0.0   \n",
              "38186     0   3.0    1.0   800                    1.0          0.0   \n",
              "38187     0   3.0    2.0   750                    0.0          0.0   \n",
              "38188     0   2.0    1.0   550                    9.0         12.0   \n",
              "\n",
              "       Medical Service  Parks  PricePerSqft  \n",
              "0                 20.0   50.0            27  \n",
              "1                 20.0   50.0            23  \n",
              "2                 20.0   50.0            66  \n",
              "3                 20.0   50.0            40  \n",
              "4                 20.0   50.0            24  \n",
              "...                ...    ...           ...  \n",
              "38181              0.0    4.0            22  \n",
              "38182              8.0   33.0            21  \n",
              "38186              0.0    0.0            11  \n",
              "38187              0.0    2.0            11  \n",
              "38188              6.0    8.0            16  \n",
              "\n",
              "[17076 rows x 9 columns]"
            ]
          },
          "execution_count": 232,
          "metadata": {},
          "output_type": "execute_result"
        }
      ],
      "source": [
        "SelectedFeaturedData=CleanedData.drop(labels=['Address'], axis=1)\n",
        "SelectedFeaturedData"
      ]
    },
    {
      "cell_type": "markdown",
      "id": "3fdf4bed",
      "metadata": {
        "id": "3fdf4bed"
      },
      "source": [
        "### 7. Data Split\n",
        "- At first we have stored all the features in X and the target value in Y\n",
        "- We have selected 30% of data as a test set"
      ]
    },
    {
      "cell_type": "markdown",
      "id": "04547590",
      "metadata": {
        "id": "04547590"
      },
      "source": [
        "#### Spliting the data"
      ]
    },
    {
      "cell_type": "code",
      "execution_count": null,
      "id": "7b23a55b",
      "metadata": {
        "id": "7b23a55b"
      },
      "outputs": [],
      "source": [
        "from sklearn.model_selection import train_test_split\n",
        "\n",
        "X = SelectedFeaturedData.drop(['PricePerSqft'], axis=1)\n",
        "y = SelectedFeaturedData.PricePerSqft\n",
        "\n",
        "X_train, X_test, y_train, y_test = train_test_split(X, y, test_size=0.3, random_state=42)"
      ]
    },
    {
      "cell_type": "markdown",
      "id": "d7c00325",
      "metadata": {
        "id": "d7c00325"
      },
      "source": [
        "#### Counting all the test and train data"
      ]
    },
    {
      "cell_type": "code",
      "execution_count": null,
      "id": "d7597c70",
      "metadata": {
        "colab": {
          "base_uri": "https://localhost:8080/"
        },
        "id": "d7597c70",
        "outputId": "f98b613a-086e-4224-984f-0c6218113f31",
        "scrolled": true
      },
      "outputs": [
        {
          "name": "stdout",
          "output_type": "stream",
          "text": [
            "Shape of X_train:  (11953, 8)\n",
            "Shape of X_test:  (5123, 8)\n",
            "Shape of y_train:  (11953,)\n",
            "Shape of y_test (5123,)\n"
          ]
        }
      ],
      "source": [
        "print(\"Shape of X_train: \",X_train.shape)\n",
        "print(\"Shape of X_test: \", X_test.shape)\n",
        "print(\"Shape of y_train: \",y_train.shape)\n",
        "print(\"Shape of y_test\",y_test.shape)"
      ]
    },
    {
      "cell_type": "markdown",
      "id": "55ca6a9a",
      "metadata": {
        "id": "55ca6a9a"
      },
      "source": [
        "### 8. Data Scaling\n",
        "We scaled the data into two category\n",
        "- Converted into norm\n",
        "- Standardizied the values"
      ]
    },
    {
      "cell_type": "markdown",
      "id": "d4201d81",
      "metadata": {
        "id": "d4201d81"
      },
      "source": [
        "#### Converting all the features into norm"
      ]
    },
    {
      "cell_type": "code",
      "execution_count": null,
      "id": "22d1fab0",
      "metadata": {
        "id": "22d1fab0"
      },
      "outputs": [],
      "source": [
        "from sklearn.preprocessing import MinMaxScaler\n",
        "\n",
        "# fit scaler on training data\n",
        "norm = MinMaxScaler().fit(X_train)\n",
        "\n",
        "# transform training data\n",
        "X_train_norm = norm.transform(X_train)\n",
        "\n",
        "# transform testing dataabs\n",
        "X_test_norm = norm.transform(X_test)"
      ]
    },
    {
      "cell_type": "markdown",
      "id": "a760db2d",
      "metadata": {
        "id": "a760db2d"
      },
      "source": [
        "#### Standardization of all values"
      ]
    },
    {
      "cell_type": "code",
      "execution_count": null,
      "id": "3a17c962",
      "metadata": {
        "id": "3a17c962"
      },
      "outputs": [],
      "source": [
        "from sklearn.preprocessing import StandardScaler\n",
        "\n",
        "# copy of datasets\n",
        "X_train_stand = X_train.copy()\n",
        "X_test_stand = X_test.copy()\n",
        "\n",
        "# numerical features\n",
        "num_cols = ['Type', 'Beds', 'Baths', 'Size', 'Educational Institute', 'Restaurants', 'Medical Service', 'Parks']\n",
        "\n",
        "# apply standardization on numerical features\n",
        "for i in num_cols:\n",
        "    \n",
        "    # fit on training data column\n",
        "    scale = StandardScaler().fit(X_train_stand[[i]])\n",
        "    \n",
        "    # transform the training data column\n",
        "    X_train_stand[i] = scale.transform(X_train_stand[[i]])\n",
        "    \n",
        "    # transform the testing data column\n",
        "    X_test_stand[i] = scale.transform(X_test_stand[[i]])"
      ]
    },
    {
      "cell_type": "markdown",
      "id": "689b948c",
      "metadata": {
        "id": "689b948c"
      },
      "source": [
        "### 9. Train Model and Evaluation of Model\n",
        "We have used  six regression algorithms those are.\n",
        "- Linear Regression\n",
        "- Ridge regression\n",
        "- LASSO Regression\n",
        "- Decision Tree\n",
        "- Random Forest Regressor\n",
        "- Extreme Gradient Boosting\n",
        "\n",
        "We have also used RMSE,MSE,MAE,R2 and Cross Validation to evaluate six regression algorithms."
      ]
    },
    {
      "cell_type": "markdown",
      "id": "6c68bcba",
      "metadata": {
        "id": "6c68bcba"
      },
      "source": [
        "#### 9.1 Linear Regression"
      ]
    },
    {
      "cell_type": "code",
      "execution_count": null,
      "id": "0f857fba",
      "metadata": {
        "colab": {
          "base_uri": "https://localhost:8080/",
          "height": 256
        },
        "id": "0f857fba",
        "outputId": "26c51542-e8a7-44a4-dea8-9ba99e8e365c"
      },
      "outputs": [
        {
          "name": "stdout",
          "output_type": "stream",
          "text": [
            "[6.1127933561190835, 6.11279335611916, 6.112793356119162]\n",
            "[37.36624261461361, 37.36624261461454, 37.36624261461456]\n",
            "[4.112565164741597, 4.11256516474165, 4.11256516474165]\n",
            "[0.26006170912353876, 0.26006170912352033, 0.26006170912352]\n",
            "[array([0.22283631, 0.28808984, 0.21149092, 0.26558729, 0.31214768,\n",
            "       0.3420829 , 0.19795443, 0.22494514, 0.30080254, 0.29221171]), array([0.22283631, 0.28808984, 0.21149092, 0.26558729, 0.31214768,\n",
            "       0.3420829 , 0.19795443, 0.22494514, 0.30080254, 0.29221171]), array([0.22283631, 0.28808984, 0.21149092, 0.26558729, 0.31214768,\n",
            "       0.3420829 , 0.19795443, 0.22494514, 0.30080254, 0.29221171])]\n"
          ]
        },
        {
          "data": {
            "text/html": [
              "<div>\n",
              "<style scoped>\n",
              "    .dataframe tbody tr th:only-of-type {\n",
              "        vertical-align: middle;\n",
              "    }\n",
              "\n",
              "    .dataframe tbody tr th {\n",
              "        vertical-align: top;\n",
              "    }\n",
              "\n",
              "    .dataframe thead th {\n",
              "        text-align: right;\n",
              "    }\n",
              "</style>\n",
              "<table border=\"1\" class=\"dataframe\">\n",
              "  <thead>\n",
              "    <tr style=\"text-align: right;\">\n",
              "      <th></th>\n",
              "      <th>Root Mean Square Error(RMSE-Linear)</th>\n",
              "      <th>Mean Squared Error (MSE-Linear)</th>\n",
              "      <th>Mean Absolute Error (MAE-Linear)</th>\n",
              "      <th>R2 Score-Linear</th>\n",
              "      <th>Cross Validation-xgboost</th>\n",
              "    </tr>\n",
              "  </thead>\n",
              "  <tbody>\n",
              "    <tr>\n",
              "      <th>Original</th>\n",
              "      <td>6.112793</td>\n",
              "      <td>37.366243</td>\n",
              "      <td>4.112565</td>\n",
              "      <td>0.260062</td>\n",
              "      <td>[0.2228363083020215, 0.2880898375455706, 0.211...</td>\n",
              "    </tr>\n",
              "    <tr>\n",
              "      <th>Normalized</th>\n",
              "      <td>6.112793</td>\n",
              "      <td>37.366243</td>\n",
              "      <td>4.112565</td>\n",
              "      <td>0.260062</td>\n",
              "      <td>[0.22283630830202883, 0.28808983754556083, 0.2...</td>\n",
              "    </tr>\n",
              "    <tr>\n",
              "      <th>Standardized</th>\n",
              "      <td>6.112793</td>\n",
              "      <td>37.366243</td>\n",
              "      <td>4.112565</td>\n",
              "      <td>0.260062</td>\n",
              "      <td>[0.2228363083020256, 0.2880898375455686, 0.211...</td>\n",
              "    </tr>\n",
              "  </tbody>\n",
              "</table>\n",
              "</div>"
            ],
            "text/plain": [
              "              Root Mean Square Error(RMSE-Linear)  \\\n",
              "Original                                 6.112793   \n",
              "Normalized                               6.112793   \n",
              "Standardized                             6.112793   \n",
              "\n",
              "              Mean Squared Error (MSE-Linear)  \\\n",
              "Original                            37.366243   \n",
              "Normalized                          37.366243   \n",
              "Standardized                        37.366243   \n",
              "\n",
              "              Mean Absolute Error (MAE-Linear)  R2 Score-Linear  \\\n",
              "Original                              4.112565         0.260062   \n",
              "Normalized                            4.112565         0.260062   \n",
              "Standardized                          4.112565         0.260062   \n",
              "\n",
              "                                       Cross Validation-xgboost  \n",
              "Original      [0.2228363083020215, 0.2880898375455706, 0.211...  \n",
              "Normalized    [0.22283630830202883, 0.28808983754556083, 0.2...  \n",
              "Standardized  [0.2228363083020256, 0.2880898375455686, 0.211...  "
            ]
          },
          "execution_count": 237,
          "metadata": {},
          "output_type": "execute_result"
        }
      ],
      "source": [
        "from sklearn.metrics import mean_squared_error\n",
        "from sklearn.model_selection import cross_val_score\n",
        "from sklearn.metrics import r2_score,mean_absolute_error\n",
        "from sklearn.linear_model import LinearRegression #LinearRegression(copy_X=True, fit_intercept=True, n_jobs=None, normalize=False)\n",
        "regressor_linear = LinearRegression()\n",
        "\n",
        "rmseL = []\n",
        "mseL=[]\n",
        "maeL=[]\n",
        "r2L=[]\n",
        "cv_linear=[]\n",
        "# raw, normalized and standardized training and testing data\n",
        "trainX = [X_train, X_train_norm, X_train_stand]\n",
        "testX = [X_test, X_test_norm, X_test_stand]\n",
        "\n",
        "# model fitting and measuring RMSE\n",
        "for i in range(len(trainX)):\n",
        "  regressor_linear.fit(trainX[i],y_train)\n",
        "  pred = regressor_linear.predict(testX[i])\n",
        "  rmseL.append(np.sqrt(mean_squared_error(y_test,pred)))\n",
        "  mseL.append(mean_squared_error(y_test,pred))\n",
        "  maeL.append(mean_absolute_error(y_test,pred))\n",
        "  r2L.append(r2_score(y_test,pred))\n",
        "  cv_linear.append(cross_val_score(estimator = regressor_linear, X = trainX[i], y = y_train, cv = 10))\n",
        "# visualizing the result\n",
        "df_Linear = pd.DataFrame({'Root Mean Square Error(RMSE-Linear)':rmseL},index=['Original','Normalized','Standardized'])\n",
        "df_Linear1 = pd.DataFrame({'Mean Squared Error (MSE-Linear)':mseL},index=['Original','Normalized','Standardized'])\n",
        "df_Linear2 = pd.DataFrame({'Mean Absolute Error (MAE-Linear)':maeL},index=['Original','Normalized','Standardized'])\n",
        "df_Linear3 = pd.DataFrame({'R2 Score-Linear':r2L},index=['Original','Normalized','Standardized'])\n",
        "df_Linea4=pd.DataFrame({'Cross Validation-xgboost':cv_linear},index=['Original','Normalized','Standardized'])\n",
        "\n",
        "result = pd.concat([df_Linear, df_Linear1,df_Linear2,df_Linear3,df_Linea4], axis=1, join='inner')\n",
        "\n",
        "print(rmseL)\n",
        "print(mseL)\n",
        "print(maeL)\n",
        "print(r2L)\n",
        "print(cv_linear)\n",
        "result"
      ]
    },
    {
      "cell_type": "markdown",
      "id": "5dea8df9",
      "metadata": {
        "id": "5dea8df9"
      },
      "source": [
        "#### 9.2 Ridge regression"
      ]
    },
    {
      "cell_type": "code",
      "execution_count": null,
      "id": "f8d42eb2",
      "metadata": {
        "colab": {
          "base_uri": "https://localhost:8080/",
          "height": 256
        },
        "id": "f8d42eb2",
        "outputId": "987680be-65c3-4235-de77-c377d796d8c5"
      },
      "outputs": [
        {
          "name": "stdout",
          "output_type": "stream",
          "text": [
            "[8.569231058588114, 8.56923105858713, 8.56923105858883]\n",
            "[73.43172093547116, 73.4317209354543, 73.43172093548345]\n",
            "[3.8039371183077173, 3.8039371183076964, 3.803937118307733]\n",
            "[-0.45411843105305594, -0.454118431052722, -0.4541184310532995]\n",
            "[array([ 0.30938367,  0.42783359,  0.17447846,  0.40243243,  0.45942815,\n",
            "        0.49265981, -4.84864329,  0.308263  ,  0.42885951,  0.29464558]), array([ 0.30938367,  0.42783359,  0.17447846,  0.40243243,  0.45942815,\n",
            "        0.49265981, -4.84864329,  0.308263  ,  0.42885951,  0.29464558]), array([ 0.30938367,  0.42783359,  0.17447846,  0.40243243,  0.45942815,\n",
            "        0.49265981, -4.84864329,  0.308263  ,  0.42885951,  0.29464558])]\n"
          ]
        },
        {
          "data": {
            "text/html": [
              "<div>\n",
              "<style scoped>\n",
              "    .dataframe tbody tr th:only-of-type {\n",
              "        vertical-align: middle;\n",
              "    }\n",
              "\n",
              "    .dataframe tbody tr th {\n",
              "        vertical-align: top;\n",
              "    }\n",
              "\n",
              "    .dataframe thead th {\n",
              "        text-align: right;\n",
              "    }\n",
              "</style>\n",
              "<table border=\"1\" class=\"dataframe\">\n",
              "  <thead>\n",
              "    <tr style=\"text-align: right;\">\n",
              "      <th></th>\n",
              "      <th>Root Mean Square Error(RMSE-Ridge)</th>\n",
              "      <th>Mean Squared Error (MSE-Ridge)</th>\n",
              "      <th>Mean Absolute Error (MAE-Ridge)</th>\n",
              "      <th>R2 Score-Ridge</th>\n",
              "      <th>Cross Validation-xgboost</th>\n",
              "    </tr>\n",
              "  </thead>\n",
              "  <tbody>\n",
              "    <tr>\n",
              "      <th>Original</th>\n",
              "      <td>8.569231</td>\n",
              "      <td>73.431721</td>\n",
              "      <td>3.803937</td>\n",
              "      <td>-0.454118</td>\n",
              "      <td>[0.2228363083020215, 0.2880898375455706, 0.211...</td>\n",
              "    </tr>\n",
              "    <tr>\n",
              "      <th>Normalized</th>\n",
              "      <td>8.569231</td>\n",
              "      <td>73.431721</td>\n",
              "      <td>3.803937</td>\n",
              "      <td>-0.454118</td>\n",
              "      <td>[0.22283630830202883, 0.28808983754556083, 0.2...</td>\n",
              "    </tr>\n",
              "    <tr>\n",
              "      <th>Standardized</th>\n",
              "      <td>8.569231</td>\n",
              "      <td>73.431721</td>\n",
              "      <td>3.803937</td>\n",
              "      <td>-0.454118</td>\n",
              "      <td>[0.2228363083020256, 0.2880898375455686, 0.211...</td>\n",
              "    </tr>\n",
              "  </tbody>\n",
              "</table>\n",
              "</div>"
            ],
            "text/plain": [
              "              Root Mean Square Error(RMSE-Ridge)  \\\n",
              "Original                                8.569231   \n",
              "Normalized                              8.569231   \n",
              "Standardized                            8.569231   \n",
              "\n",
              "              Mean Squared Error (MSE-Ridge)  Mean Absolute Error (MAE-Ridge)  \\\n",
              "Original                           73.431721                         3.803937   \n",
              "Normalized                         73.431721                         3.803937   \n",
              "Standardized                       73.431721                         3.803937   \n",
              "\n",
              "              R2 Score-Ridge  \\\n",
              "Original           -0.454118   \n",
              "Normalized         -0.454118   \n",
              "Standardized       -0.454118   \n",
              "\n",
              "                                       Cross Validation-xgboost  \n",
              "Original      [0.2228363083020215, 0.2880898375455706, 0.211...  \n",
              "Normalized    [0.22283630830202883, 0.28808983754556083, 0.2...  \n",
              "Standardized  [0.2228363083020256, 0.2880898375455686, 0.211...  "
            ]
          },
          "execution_count": 238,
          "metadata": {},
          "output_type": "execute_result"
        }
      ],
      "source": [
        "from sklearn.linear_model import Ridge\n",
        "from sklearn.preprocessing import StandardScaler\n",
        "from sklearn.pipeline import Pipeline\n",
        "from sklearn.preprocessing import PolynomialFeatures\n",
        "\n",
        "steps = [\n",
        "    ('scalar', StandardScaler()),\n",
        "    ('poly', PolynomialFeatures(degree=2)),\n",
        "    ('model', Ridge(alpha=3.8, fit_intercept=True))\n",
        "]\n",
        "\n",
        "ridge_pipe = Pipeline(steps)\n",
        "\n",
        "rmse_ridge = []\n",
        "mse_ridge=[]\n",
        "mae_ridge=[]\n",
        "r2_ridge=[]\n",
        "cv_ridge=[]\n",
        "\n",
        "\n",
        "# model fitting and measuring RMSE\n",
        "for i in range(len(trainX)):\n",
        "  ridge_pipe.fit(trainX[i],y_train)\n",
        "  pred = ridge_pipe.predict(testX[i])\n",
        "  rmse_ridge.append(np.sqrt(mean_squared_error(y_test,pred)))\n",
        "  mse_ridge.append(mean_squared_error(y_test,pred))\n",
        "  mae_ridge.append(mean_absolute_error(y_test,pred))\n",
        "  r2_ridge.append(r2_score(y_test,pred))\n",
        "  cv_ridge.append(cross_val_score(estimator = ridge_pipe, X = trainX[i], y = y_train.ravel(), cv = 10))\n",
        "  \n",
        "# visualizing the result\n",
        "df_ridge = pd.DataFrame({'Root Mean Square Error(RMSE-Ridge)':rmse_ridge},index=['Original','Normalized','Standardized'])\n",
        "df_ridge1 = pd.DataFrame({'Mean Squared Error (MSE-Ridge)':mse_ridge},index=['Original','Normalized','Standardized'])\n",
        "df_ridge2 = pd.DataFrame({'Mean Absolute Error (MAE-Ridge)':mae_ridge},index=['Original','Normalized','Standardized'])\n",
        "df_ridge3 = pd.DataFrame({'R2 Score-Ridge':r2_ridge},index=['Original','Normalized','Standardized'])\n",
        "df_ridge4=pd.DataFrame({'Cross Validation-xgboost':cv_linear},index=['Original','Normalized','Standardized'])\n",
        "result1 = pd.concat([df_ridge, df_ridge1,df_ridge2,df_ridge3,df_ridge4], axis=1, join='inner')\n",
        "\n",
        "print(rmse_ridge)\n",
        "print(mse_ridge)\n",
        "print(mae_ridge)\n",
        "print(r2_ridge)\n",
        "print(cv_ridge)\n",
        "result1"
      ]
    },
    {
      "cell_type": "markdown",
      "id": "8f3f3c33",
      "metadata": {
        "id": "8f3f3c33"
      },
      "source": [
        "#### 9.3 LASSO Regression"
      ]
    },
    {
      "cell_type": "code",
      "execution_count": null,
      "id": "d03826f9",
      "metadata": {
        "colab": {
          "base_uri": "https://localhost:8080/",
          "height": 1000
        },
        "id": "d03826f9",
        "outputId": "1aa9012a-03ee-4f39-a1d2-979505936bf8"
      },
      "outputs": [
        {
          "name": "stderr",
          "output_type": "stream",
          "text": [
            "C:\\Users\\saifa\\anaconda3\\lib\\site-packages\\sklearn\\linear_model\\_coordinate_descent.py:530: ConvergenceWarning: Objective did not converge. You might want to increase the number of iterations. Duality gap: 165283.1456567148, tolerance: 69.27854635656323\n",
            "  model = cd_fast.enet_coordinate_descent(\n",
            "C:\\Users\\saifa\\anaconda3\\lib\\site-packages\\sklearn\\linear_model\\_coordinate_descent.py:530: ConvergenceWarning: Objective did not converge. You might want to increase the number of iterations. Duality gap: 150546.2483635627, tolerance: 63.09911873198847\n",
            "  model = cd_fast.enet_coordinate_descent(\n",
            "C:\\Users\\saifa\\anaconda3\\lib\\site-packages\\sklearn\\linear_model\\_coordinate_descent.py:530: ConvergenceWarning: Objective did not converge. You might want to increase the number of iterations. Duality gap: 164332.88718163618, tolerance: 62.64885577763329\n",
            "  model = cd_fast.enet_coordinate_descent(\n",
            "C:\\Users\\saifa\\anaconda3\\lib\\site-packages\\sklearn\\linear_model\\_coordinate_descent.py:530: ConvergenceWarning: Objective did not converge. You might want to increase the number of iterations. Duality gap: 149650.49962582748, tolerance: 64.24423950915684\n",
            "  model = cd_fast.enet_coordinate_descent(\n",
            "C:\\Users\\saifa\\anaconda3\\lib\\site-packages\\sklearn\\linear_model\\_coordinate_descent.py:530: ConvergenceWarning: Objective did not converge. You might want to increase the number of iterations. Duality gap: 150841.02412763055, tolerance: 61.42334954452501\n",
            "  model = cd_fast.enet_coordinate_descent(\n",
            "C:\\Users\\saifa\\anaconda3\\lib\\site-packages\\sklearn\\linear_model\\_coordinate_descent.py:530: ConvergenceWarning: Objective did not converge. You might want to increase the number of iterations. Duality gap: 152608.141309999, tolerance: 61.91654550102248\n",
            "  model = cd_fast.enet_coordinate_descent(\n",
            "C:\\Users\\saifa\\anaconda3\\lib\\site-packages\\sklearn\\linear_model\\_coordinate_descent.py:530: ConvergenceWarning: Objective did not converge. You might want to increase the number of iterations. Duality gap: 145353.0792094557, tolerance: 61.33522841606246\n",
            "  model = cd_fast.enet_coordinate_descent(\n",
            "C:\\Users\\saifa\\anaconda3\\lib\\site-packages\\sklearn\\linear_model\\_coordinate_descent.py:530: ConvergenceWarning: Objective did not converge. You might want to increase the number of iterations. Duality gap: 154591.3091937142, tolerance: 64.18462648261759\n",
            "  model = cd_fast.enet_coordinate_descent(\n",
            "C:\\Users\\saifa\\anaconda3\\lib\\site-packages\\sklearn\\linear_model\\_coordinate_descent.py:530: ConvergenceWarning: Objective did not converge. You might want to increase the number of iterations. Duality gap: 154949.38940912375, tolerance: 63.1061496653653\n",
            "  model = cd_fast.enet_coordinate_descent(\n",
            "C:\\Users\\saifa\\anaconda3\\lib\\site-packages\\sklearn\\linear_model\\_coordinate_descent.py:530: ConvergenceWarning: Objective did not converge. You might want to increase the number of iterations. Duality gap: 162547.55387264283, tolerance: 63.445354564045374\n",
            "  model = cd_fast.enet_coordinate_descent(\n",
            "C:\\Users\\saifa\\anaconda3\\lib\\site-packages\\sklearn\\linear_model\\_coordinate_descent.py:530: ConvergenceWarning: Objective did not converge. You might want to increase the number of iterations. Duality gap: 165283.1456567725, tolerance: 69.27854635656323\n",
            "  model = cd_fast.enet_coordinate_descent(\n",
            "C:\\Users\\saifa\\anaconda3\\lib\\site-packages\\sklearn\\linear_model\\_coordinate_descent.py:530: ConvergenceWarning: Objective did not converge. You might want to increase the number of iterations. Duality gap: 150546.248363588, tolerance: 63.09911873198847\n",
            "  model = cd_fast.enet_coordinate_descent(\n",
            "C:\\Users\\saifa\\anaconda3\\lib\\site-packages\\sklearn\\linear_model\\_coordinate_descent.py:530: ConvergenceWarning: Objective did not converge. You might want to increase the number of iterations. Duality gap: 164332.88718162157, tolerance: 62.64885577763329\n",
            "  model = cd_fast.enet_coordinate_descent(\n",
            "C:\\Users\\saifa\\anaconda3\\lib\\site-packages\\sklearn\\linear_model\\_coordinate_descent.py:530: ConvergenceWarning: Objective did not converge. You might want to increase the number of iterations. Duality gap: 149650.49962584482, tolerance: 64.24423950915684\n",
            "  model = cd_fast.enet_coordinate_descent(\n",
            "C:\\Users\\saifa\\anaconda3\\lib\\site-packages\\sklearn\\linear_model\\_coordinate_descent.py:530: ConvergenceWarning: Objective did not converge. You might want to increase the number of iterations. Duality gap: 150841.02412766125, tolerance: 61.42334954452501\n",
            "  model = cd_fast.enet_coordinate_descent(\n",
            "C:\\Users\\saifa\\anaconda3\\lib\\site-packages\\sklearn\\linear_model\\_coordinate_descent.py:530: ConvergenceWarning: Objective did not converge. You might want to increase the number of iterations. Duality gap: 152608.14131001, tolerance: 61.91654550102248\n",
            "  model = cd_fast.enet_coordinate_descent(\n",
            "C:\\Users\\saifa\\anaconda3\\lib\\site-packages\\sklearn\\linear_model\\_coordinate_descent.py:530: ConvergenceWarning: Objective did not converge. You might want to increase the number of iterations. Duality gap: 145353.07920942345, tolerance: 61.33522841606246\n",
            "  model = cd_fast.enet_coordinate_descent(\n",
            "C:\\Users\\saifa\\anaconda3\\lib\\site-packages\\sklearn\\linear_model\\_coordinate_descent.py:530: ConvergenceWarning: Objective did not converge. You might want to increase the number of iterations. Duality gap: 154591.30919369933, tolerance: 64.18462648261759\n",
            "  model = cd_fast.enet_coordinate_descent(\n",
            "C:\\Users\\saifa\\anaconda3\\lib\\site-packages\\sklearn\\linear_model\\_coordinate_descent.py:530: ConvergenceWarning: Objective did not converge. You might want to increase the number of iterations. Duality gap: 154949.3894091286, tolerance: 63.1061496653653\n",
            "  model = cd_fast.enet_coordinate_descent(\n",
            "C:\\Users\\saifa\\anaconda3\\lib\\site-packages\\sklearn\\linear_model\\_coordinate_descent.py:530: ConvergenceWarning: Objective did not converge. You might want to increase the number of iterations. Duality gap: 162547.55387266073, tolerance: 63.445354564045374\n",
            "  model = cd_fast.enet_coordinate_descent(\n",
            "C:\\Users\\saifa\\anaconda3\\lib\\site-packages\\sklearn\\linear_model\\_coordinate_descent.py:530: ConvergenceWarning: Objective did not converge. You might want to increase the number of iterations. Duality gap: 165283.1456567202, tolerance: 69.27854635656323\n",
            "  model = cd_fast.enet_coordinate_descent(\n",
            "C:\\Users\\saifa\\anaconda3\\lib\\site-packages\\sklearn\\linear_model\\_coordinate_descent.py:530: ConvergenceWarning: Objective did not converge. You might want to increase the number of iterations. Duality gap: 150546.24836354324, tolerance: 63.09911873198847\n",
            "  model = cd_fast.enet_coordinate_descent(\n",
            "C:\\Users\\saifa\\anaconda3\\lib\\site-packages\\sklearn\\linear_model\\_coordinate_descent.py:530: ConvergenceWarning: Objective did not converge. You might want to increase the number of iterations. Duality gap: 164332.88718162925, tolerance: 62.64885577763329\n",
            "  model = cd_fast.enet_coordinate_descent(\n",
            "C:\\Users\\saifa\\anaconda3\\lib\\site-packages\\sklearn\\linear_model\\_coordinate_descent.py:530: ConvergenceWarning: Objective did not converge. You might want to increase the number of iterations. Duality gap: 149650.49962583752, tolerance: 64.24423950915684\n",
            "  model = cd_fast.enet_coordinate_descent(\n",
            "C:\\Users\\saifa\\anaconda3\\lib\\site-packages\\sklearn\\linear_model\\_coordinate_descent.py:530: ConvergenceWarning: Objective did not converge. You might want to increase the number of iterations. Duality gap: 150841.02412763634, tolerance: 61.42334954452501\n",
            "  model = cd_fast.enet_coordinate_descent(\n",
            "C:\\Users\\saifa\\anaconda3\\lib\\site-packages\\sklearn\\linear_model\\_coordinate_descent.py:530: ConvergenceWarning: Objective did not converge. You might want to increase the number of iterations. Duality gap: 152608.14130999154, tolerance: 61.91654550102248\n",
            "  model = cd_fast.enet_coordinate_descent(\n",
            "C:\\Users\\saifa\\anaconda3\\lib\\site-packages\\sklearn\\linear_model\\_coordinate_descent.py:530: ConvergenceWarning: Objective did not converge. You might want to increase the number of iterations. Duality gap: 145353.07920941216, tolerance: 61.33522841606246\n",
            "  model = cd_fast.enet_coordinate_descent(\n",
            "C:\\Users\\saifa\\anaconda3\\lib\\site-packages\\sklearn\\linear_model\\_coordinate_descent.py:530: ConvergenceWarning: Objective did not converge. You might want to increase the number of iterations. Duality gap: 154591.30919367087, tolerance: 64.18462648261759\n",
            "  model = cd_fast.enet_coordinate_descent(\n"
          ]
        },
        {
          "name": "stderr",
          "output_type": "stream",
          "text": [
            "C:\\Users\\saifa\\anaconda3\\lib\\site-packages\\sklearn\\linear_model\\_coordinate_descent.py:530: ConvergenceWarning: Objective did not converge. You might want to increase the number of iterations. Duality gap: 154949.38940913035, tolerance: 63.1061496653653\n",
            "  model = cd_fast.enet_coordinate_descent(\n"
          ]
        },
        {
          "name": "stdout",
          "output_type": "stream",
          "text": [
            "[7.650019646718335, 7.650019646718125, 7.650019646717999]\n",
            "[58.52280059517652, 58.5228005951733, 58.52280059517137]\n",
            "[3.78524544862403, 3.7852454486240266, 3.785245448624024]\n",
            "[-0.15888722064774408, -0.15888722064768035, -0.15888722064764216]\n",
            "[array([ 0.31009359,  0.46986075,  0.1747445 ,  0.40679201,  0.45930626,\n",
            "        0.47856913, -7.93888566,  0.33643457,  0.43026485,  0.42845644]), array([ 0.31009359,  0.46986075,  0.1747445 ,  0.40679201,  0.45930626,\n",
            "        0.47856913, -7.93888566,  0.33643457,  0.43026485,  0.42845644]), array([ 0.31009359,  0.46986075,  0.1747445 ,  0.40679201,  0.45930626,\n",
            "        0.47856913, -7.93888566,  0.33643457,  0.43026485,  0.42845644])]\n"
          ]
        },
        {
          "name": "stderr",
          "output_type": "stream",
          "text": [
            "C:\\Users\\saifa\\anaconda3\\lib\\site-packages\\sklearn\\linear_model\\_coordinate_descent.py:530: ConvergenceWarning: Objective did not converge. You might want to increase the number of iterations. Duality gap: 162547.5538726504, tolerance: 63.445354564045374\n",
            "  model = cd_fast.enet_coordinate_descent(\n"
          ]
        },
        {
          "data": {
            "text/html": [
              "<div>\n",
              "<style scoped>\n",
              "    .dataframe tbody tr th:only-of-type {\n",
              "        vertical-align: middle;\n",
              "    }\n",
              "\n",
              "    .dataframe tbody tr th {\n",
              "        vertical-align: top;\n",
              "    }\n",
              "\n",
              "    .dataframe thead th {\n",
              "        text-align: right;\n",
              "    }\n",
              "</style>\n",
              "<table border=\"1\" class=\"dataframe\">\n",
              "  <thead>\n",
              "    <tr style=\"text-align: right;\">\n",
              "      <th></th>\n",
              "      <th>Root Mean Square Error(RMSE-Lasso)</th>\n",
              "      <th>Mean Squared Error (MSE-Lasso)</th>\n",
              "      <th>Mean Absolute Error (MAE-Lasso)</th>\n",
              "      <th>R2 Score-Lasso</th>\n",
              "      <th>Cross Validation-Lasso</th>\n",
              "    </tr>\n",
              "  </thead>\n",
              "  <tbody>\n",
              "    <tr>\n",
              "      <th>Original</th>\n",
              "      <td>7.65002</td>\n",
              "      <td>58.522801</td>\n",
              "      <td>3.785245</td>\n",
              "      <td>-0.158887</td>\n",
              "      <td>[0.3100935914323357, 0.4698607476939297, 0.174...</td>\n",
              "    </tr>\n",
              "    <tr>\n",
              "      <th>Normalized</th>\n",
              "      <td>7.65002</td>\n",
              "      <td>58.522801</td>\n",
              "      <td>3.785245</td>\n",
              "      <td>-0.158887</td>\n",
              "      <td>[0.3100935914323383, 0.46986074769393216, 0.17...</td>\n",
              "    </tr>\n",
              "    <tr>\n",
              "      <th>Standardized</th>\n",
              "      <td>7.65002</td>\n",
              "      <td>58.522801</td>\n",
              "      <td>3.785245</td>\n",
              "      <td>-0.158887</td>\n",
              "      <td>[0.31009359143233695, 0.46986074769393216, 0.1...</td>\n",
              "    </tr>\n",
              "  </tbody>\n",
              "</table>\n",
              "</div>"
            ],
            "text/plain": [
              "              Root Mean Square Error(RMSE-Lasso)  \\\n",
              "Original                                 7.65002   \n",
              "Normalized                               7.65002   \n",
              "Standardized                             7.65002   \n",
              "\n",
              "              Mean Squared Error (MSE-Lasso)  Mean Absolute Error (MAE-Lasso)  \\\n",
              "Original                           58.522801                         3.785245   \n",
              "Normalized                         58.522801                         3.785245   \n",
              "Standardized                       58.522801                         3.785245   \n",
              "\n",
              "              R2 Score-Lasso  \\\n",
              "Original           -0.158887   \n",
              "Normalized         -0.158887   \n",
              "Standardized       -0.158887   \n",
              "\n",
              "                                         Cross Validation-Lasso  \n",
              "Original      [0.3100935914323357, 0.4698607476939297, 0.174...  \n",
              "Normalized    [0.3100935914323383, 0.46986074769393216, 0.17...  \n",
              "Standardized  [0.31009359143233695, 0.46986074769393216, 0.1...  "
            ]
          },
          "execution_count": 239,
          "metadata": {},
          "output_type": "execute_result"
        }
      ],
      "source": [
        "from sklearn.linear_model import Lasso\n",
        "\n",
        "steps = [\n",
        "    ('scalar', StandardScaler()),\n",
        "    ('poly', PolynomialFeatures(degree=2)),\n",
        "    ('model', Lasso(alpha=0.012, fit_intercept=True, max_iter=3000))\n",
        "]\n",
        "\n",
        "lasso_pipe = Pipeline(steps)\n",
        "\n",
        "rmse_lesso = []\n",
        "mse_lesso=[]\n",
        "mae_lesso=[]\n",
        "r2_lesso=[]\n",
        "cv_lasso=[]\n",
        "\n",
        "# model fitting and measuring RMSE\n",
        "for i in range(len(trainX)):\n",
        "  lasso_pipe.fit(trainX[i],y_train)\n",
        "  pred = lasso_pipe.predict(testX[i])\n",
        "  rmse_lesso.append(np.sqrt(mean_squared_error(y_test,pred)))\n",
        "  mse_lesso.append(mean_squared_error(y_test,pred))\n",
        "  mae_lesso.append(mean_absolute_error(y_test,pred))\n",
        "  r2_lesso.append(r2_score(y_test,pred))\n",
        "  cv_lasso.append(cross_val_score(estimator = lasso_pipe, X = trainX[i], y = y_train, cv = 10))\n",
        "  \n",
        "# visualizing the result\n",
        "df_lesso = pd.DataFrame({'Root Mean Square Error(RMSE-Lasso)':rmse_lesso},index=['Original','Normalized','Standardized'])\n",
        "df_lesso1 = pd.DataFrame({'Mean Squared Error (MSE-Lasso)':mse_lesso},index=['Original','Normalized','Standardized'])\n",
        "df_lesso2 = pd.DataFrame({'Mean Absolute Error (MAE-Lasso)':mae_lesso},index=['Original','Normalized','Standardized'])\n",
        "df_lesso3 = pd.DataFrame({'R2 Score-Lasso':r2_lesso},index=['Original','Normalized','Standardized'])\n",
        "df_lesso4 =pd.DataFrame({'Cross Validation-Lasso':cv_lasso},index=['Original','Normalized','Standardized'])\n",
        "result2 = pd.concat([df_lesso, df_lesso1,df_lesso2,df_lesso3,df_lesso4], axis=1, join='inner')\n",
        "\n",
        "print(rmse_lesso)\n",
        "print(mse_lesso)\n",
        "print(mae_lesso)\n",
        "print(r2_lesso)\n",
        "print(cv_lasso)\n",
        "result2"
      ]
    },
    {
      "cell_type": "markdown",
      "id": "331da5c3",
      "metadata": {
        "id": "331da5c3"
      },
      "source": [
        "#### 9.4 Decision Tree"
      ]
    },
    {
      "cell_type": "code",
      "execution_count": null,
      "id": "29501fd1",
      "metadata": {
        "colab": {
          "base_uri": "https://localhost:8080/",
          "height": 256
        },
        "id": "29501fd1",
        "outputId": "1b5d4fa2-da15-4d35-b4c3-e28989e8b65d"
      },
      "outputs": [
        {
          "name": "stdout",
          "output_type": "stream",
          "text": [
            "[5.177615051715673, 5.182990861113801, 5.178570291551273]\n",
            "[26.807697623752688, 26.86339426638918, 26.81759026453743]\n",
            "[3.42236453658472, 3.424149205166187, 3.423341146891801]\n",
            "[0.4691453950391353, 0.46804247230256124, 0.46894949780135275]\n",
            "[array([ 0.33318359,  0.48820942,  0.16876941,  0.50711745,  0.42870253,\n",
            "        0.47012806,  0.40382569, -0.29991518,  0.4151316 ,  0.43324808]), array([ 0.33329299,  0.48786596,  0.17010787,  0.5045298 ,  0.41968495,\n",
            "        0.47342233,  0.40378519, -0.29888002,  0.414251  ,  0.43333379]), array([ 0.3331508 ,  0.48658016,  0.16740021,  0.50434762,  0.43109083,\n",
            "        0.46009427,  0.40235238, -0.30122653,  0.41449159,  0.43553291])]\n"
          ]
        },
        {
          "data": {
            "text/html": [
              "<div>\n",
              "<style scoped>\n",
              "    .dataframe tbody tr th:only-of-type {\n",
              "        vertical-align: middle;\n",
              "    }\n",
              "\n",
              "    .dataframe tbody tr th {\n",
              "        vertical-align: top;\n",
              "    }\n",
              "\n",
              "    .dataframe thead th {\n",
              "        text-align: right;\n",
              "    }\n",
              "</style>\n",
              "<table border=\"1\" class=\"dataframe\">\n",
              "  <thead>\n",
              "    <tr style=\"text-align: right;\">\n",
              "      <th></th>\n",
              "      <th>Root Mean Square Error(RMSE-DecisionTree)</th>\n",
              "      <th>Mean Squared Error (MSE-DecisionTree)</th>\n",
              "      <th>Mean Absolute Error (MAE-DecisionTree)</th>\n",
              "      <th>R2 Score-DecisionTree</th>\n",
              "      <th>Cross Validation-DecisionTree</th>\n",
              "    </tr>\n",
              "  </thead>\n",
              "  <tbody>\n",
              "    <tr>\n",
              "      <th>Original</th>\n",
              "      <td>5.177615</td>\n",
              "      <td>26.807698</td>\n",
              "      <td>3.422365</td>\n",
              "      <td>0.469145</td>\n",
              "      <td>[0.33318358693447514, 0.48820942202238193, 0.1...</td>\n",
              "    </tr>\n",
              "    <tr>\n",
              "      <th>Normalized</th>\n",
              "      <td>5.182991</td>\n",
              "      <td>26.863394</td>\n",
              "      <td>3.424149</td>\n",
              "      <td>0.468042</td>\n",
              "      <td>[0.3332929928436458, 0.4878659612132842, 0.170...</td>\n",
              "    </tr>\n",
              "    <tr>\n",
              "      <th>Standardized</th>\n",
              "      <td>5.178570</td>\n",
              "      <td>26.817590</td>\n",
              "      <td>3.423341</td>\n",
              "      <td>0.468949</td>\n",
              "      <td>[0.3331508002883071, 0.4865801579767838, 0.167...</td>\n",
              "    </tr>\n",
              "  </tbody>\n",
              "</table>\n",
              "</div>"
            ],
            "text/plain": [
              "              Root Mean Square Error(RMSE-DecisionTree)  \\\n",
              "Original                                       5.177615   \n",
              "Normalized                                     5.182991   \n",
              "Standardized                                   5.178570   \n",
              "\n",
              "              Mean Squared Error (MSE-DecisionTree)  \\\n",
              "Original                                  26.807698   \n",
              "Normalized                                26.863394   \n",
              "Standardized                              26.817590   \n",
              "\n",
              "              Mean Absolute Error (MAE-DecisionTree)  R2 Score-DecisionTree  \\\n",
              "Original                                    3.422365               0.469145   \n",
              "Normalized                                  3.424149               0.468042   \n",
              "Standardized                                3.423341               0.468949   \n",
              "\n",
              "                                  Cross Validation-DecisionTree  \n",
              "Original      [0.33318358693447514, 0.48820942202238193, 0.1...  \n",
              "Normalized    [0.3332929928436458, 0.4878659612132842, 0.170...  \n",
              "Standardized  [0.3331508002883071, 0.4865801579767838, 0.167...  "
            ]
          },
          "execution_count": 240,
          "metadata": {},
          "output_type": "execute_result"
        }
      ],
      "source": [
        "from sklearn.tree import DecisionTreeRegressor\n",
        "regressor_dt = DecisionTreeRegressor(random_state = 0)\n",
        "\n",
        "rmseD = []\n",
        "mseD=[]\n",
        "maeD=[]\n",
        "r2D=[]\n",
        "cv_dt=[]\n",
        "\n",
        "# model fitting and measuring RMSE\n",
        "for i in range(len(trainX)):\n",
        "  regressor_dt.fit(trainX[i],y_train)\n",
        "    # predict\n",
        "  pred = regressor_dt.predict(testX[i])\n",
        "    # RMSE\n",
        "  rmseD.append(np.sqrt(mean_squared_error(y_test,pred)))\n",
        "  mseD.append(mean_squared_error(y_test,pred))\n",
        "  maeD.append(mean_absolute_error(y_test,pred))\n",
        "  r2D.append(r2_score(y_test,pred))\n",
        "  cv_dt.append(cross_val_score(estimator = regressor_dt, X = trainX[i], y = y_train, cv = 10))\n",
        "\n",
        "# visualizing the result    \n",
        "df_dt = pd.DataFrame({'Root Mean Square Error(RMSE-DecisionTree)':rmseD},index=['Original','Normalized','Standardized'])\n",
        "df_dt1 = pd.DataFrame({'Mean Squared Error (MSE-DecisionTree)':mseD},index=['Original','Normalized','Standardized'])\n",
        "df_dt2 = pd.DataFrame({'Mean Absolute Error (MAE-DecisionTree)':maeD},index=['Original','Normalized','Standardized'])\n",
        "df_dt3=pd.DataFrame({'R2 Score-DecisionTree':r2D},index=['Original','Normalized','Standardized'])\n",
        "df_dt4 =pd.DataFrame({'Cross Validation-DecisionTree':cv_dt},index=['Original','Normalized','Standardized'])\n",
        "result3 = pd.concat([df_dt, df_dt1,df_dt2,df_dt3,df_dt4], axis=1, join='inner')\n",
        "print(rmseD)\n",
        "print(mseD)\n",
        "print(maeD)\n",
        "print(r2D)\n",
        "print(cv_dt)\n",
        "result3"
      ]
    },
    {
      "cell_type": "markdown",
      "id": "42f1e6ac",
      "metadata": {
        "id": "42f1e6ac"
      },
      "source": [
        "#### 9.5 Random Forest Regressor"
      ]
    },
    {
      "cell_type": "code",
      "execution_count": null,
      "id": "f82de448",
      "metadata": {
        "colab": {
          "base_uri": "https://localhost:8080/",
          "height": 256
        },
        "id": "f82de448",
        "outputId": "5da42186-f387-4da7-8f78-5625a02d7c2b"
      },
      "outputs": [
        {
          "name": "stdout",
          "output_type": "stream",
          "text": [
            "[4.648861051416127, 4.652402708582172, 4.650669112074036]\n",
            "[21.611909075373855, 21.644850962822733, 21.628723189999505]\n",
            "[3.078959009340735, 3.0811496273202863, 3.0806298843949493]\n",
            "[0.572034062168309, 0.5713817363739131, 0.5717011036911342]\n",
            "[array([0.50855197, 0.62630071, 0.36615994, 0.6477101 , 0.66802194,\n",
            "       0.59609905, 0.49041956, 0.35149823, 0.55028607, 0.57882385]), array([0.50899456, 0.62570556, 0.36579894, 0.64742333, 0.67052155,\n",
            "       0.59687568, 0.49066046, 0.35153565, 0.54972771, 0.57690321]), array([0.50891931, 0.6264649 , 0.36559583, 0.64678916, 0.66854179,\n",
            "       0.59521383, 0.49073635, 0.35034477, 0.5507347 , 0.57807063])]\n"
          ]
        },
        {
          "data": {
            "text/html": [
              "<div>\n",
              "<style scoped>\n",
              "    .dataframe tbody tr th:only-of-type {\n",
              "        vertical-align: middle;\n",
              "    }\n",
              "\n",
              "    .dataframe tbody tr th {\n",
              "        vertical-align: top;\n",
              "    }\n",
              "\n",
              "    .dataframe thead th {\n",
              "        text-align: right;\n",
              "    }\n",
              "</style>\n",
              "<table border=\"1\" class=\"dataframe\">\n",
              "  <thead>\n",
              "    <tr style=\"text-align: right;\">\n",
              "      <th></th>\n",
              "      <th>Root Mean Square Error(RMSE-RandomForest)</th>\n",
              "      <th>Mean Squared Error (MSE-RandomForest)</th>\n",
              "      <th>Mean Absolute Error (MAE-RandomForest)</th>\n",
              "      <th>R2 Score-RandomForest</th>\n",
              "      <th>Cross Validation-RandomForest</th>\n",
              "    </tr>\n",
              "  </thead>\n",
              "  <tbody>\n",
              "    <tr>\n",
              "      <th>Original</th>\n",
              "      <td>4.648861</td>\n",
              "      <td>21.611909</td>\n",
              "      <td>3.078959</td>\n",
              "      <td>0.572034</td>\n",
              "      <td>[0.5085519727075807, 0.6263007095297857, 0.366...</td>\n",
              "    </tr>\n",
              "    <tr>\n",
              "      <th>Normalized</th>\n",
              "      <td>4.652403</td>\n",
              "      <td>21.644851</td>\n",
              "      <td>3.081150</td>\n",
              "      <td>0.571382</td>\n",
              "      <td>[0.5089945573914766, 0.6257055596404115, 0.365...</td>\n",
              "    </tr>\n",
              "    <tr>\n",
              "      <th>Standardized</th>\n",
              "      <td>4.650669</td>\n",
              "      <td>21.628723</td>\n",
              "      <td>3.080630</td>\n",
              "      <td>0.571701</td>\n",
              "      <td>[0.5089193078850862, 0.6264648959495949, 0.365...</td>\n",
              "    </tr>\n",
              "  </tbody>\n",
              "</table>\n",
              "</div>"
            ],
            "text/plain": [
              "              Root Mean Square Error(RMSE-RandomForest)  \\\n",
              "Original                                       4.648861   \n",
              "Normalized                                     4.652403   \n",
              "Standardized                                   4.650669   \n",
              "\n",
              "              Mean Squared Error (MSE-RandomForest)  \\\n",
              "Original                                  21.611909   \n",
              "Normalized                                21.644851   \n",
              "Standardized                              21.628723   \n",
              "\n",
              "              Mean Absolute Error (MAE-RandomForest)  R2 Score-RandomForest  \\\n",
              "Original                                    3.078959               0.572034   \n",
              "Normalized                                  3.081150               0.571382   \n",
              "Standardized                                3.080630               0.571701   \n",
              "\n",
              "                                  Cross Validation-RandomForest  \n",
              "Original      [0.5085519727075807, 0.6263007095297857, 0.366...  \n",
              "Normalized    [0.5089945573914766, 0.6257055596404115, 0.365...  \n",
              "Standardized  [0.5089193078850862, 0.6264648959495949, 0.365...  "
            ]
          },
          "execution_count": 241,
          "metadata": {},
          "output_type": "execute_result"
        }
      ],
      "source": [
        "from sklearn.ensemble import RandomForestRegressor\n",
        "regressor_rf = RandomForestRegressor(n_estimators = 500, random_state = 0)\n",
        "\n",
        "rmseR = []\n",
        "mseR=[]\n",
        "maeR=[]\n",
        "r2R=[]\n",
        "cv_rf=[]\n",
        "# model fitting and measuring RMSE\n",
        "for i in range(len(trainX)):\n",
        "  regressor_rf.fit(trainX[i],y_train)\n",
        "    # predict\n",
        "  pred = regressor_rf.predict(testX[i])\n",
        "    # RMSE\n",
        "  rmseR.append(np.sqrt(mean_squared_error(y_test,pred)))\n",
        "  mseR.append(mean_squared_error(y_test,pred))\n",
        "  maeR.append(mean_absolute_error(y_test,pred))\n",
        "  r2R.append(r2_score(y_test,pred))\n",
        "  cv_rf.append(cross_val_score(estimator = regressor_rf, X = trainX[i], y = y_train.ravel(), cv = 10))\n",
        "\n",
        "# visualizing the result    \n",
        "df_RM = pd.DataFrame({'Root Mean Square Error(RMSE-RandomForest)':rmseR},index=['Original','Normalized','Standardized'])\n",
        "df_RME = pd.DataFrame({'Mean Squared Error (MSE-RandomForest)':mseR},index=['Original','Normalized','Standardized'])\n",
        "df_RMA = pd.DataFrame({'Mean Absolute Error (MAE-RandomForest)':maeR},index=['Original','Normalized','Standardized'])\n",
        "df_RM3=pd.DataFrame({'R2 Score-RandomForest':r2R},index=['Original','Normalized','Standardized'])\n",
        "df_RM4 =pd.DataFrame({'Cross Validation-RandomForest':cv_rf},index=['Original','Normalized','Standardized'])\n",
        "result4 = pd.concat([df_RM, df_RME,df_RMA,df_RM3,df_RM4], axis=1, join='inner')\n",
        "print(rmseR)\n",
        "print(mseR)\n",
        "print(maeR)\n",
        "print(r2R)\n",
        "print(cv_rf)\n",
        "result4"
      ]
    },
    {
      "cell_type": "markdown",
      "id": "6c572014",
      "metadata": {
        "id": "6c572014"
      },
      "source": [
        "#### 9.6 Xtreme Gradient Boosting\n"
      ]
    },
    {
      "cell_type": "code",
      "execution_count": null,
      "id": "fb7825cf",
      "metadata": {
        "colab": {
          "base_uri": "https://localhost:8080/",
          "height": 246
        },
        "id": "fb7825cf",
        "outputId": "8c8bee9b-976f-4ebd-9bc3-3c544d73c9e4"
      },
      "outputs": [
        {
          "name": "stdout",
          "output_type": "stream",
          "text": [
            "[23:32:35] WARNING: d:\\bld\\xgboost-split_1637426510059\\work\\src\\objective\\regression_obj.cu:188: reg:linear is now deprecated in favor of reg:squarederror.\n",
            "[23:35:10] WARNING: d:\\bld\\xgboost-split_1637426510059\\work\\src\\objective\\regression_obj.cu:188: reg:linear is now deprecated in favor of reg:squarederror.\n",
            "[23:37:52] WARNING: d:\\bld\\xgboost-split_1637426510059\\work\\src\\objective\\regression_obj.cu:188: reg:linear is now deprecated in favor of reg:squarederror.\n",
            "[8.57783170848867, 8.57783170848867, 8.57783170848867]\n",
            "[73.57919681915365, 73.57919681915365, 73.57919681915365]\n",
            "[6.415181664454385, 6.415181664454385, 6.415181664454385]\n",
            "[-0.45703879568385375, -0.45703879568385375, -0.45703879568385375]\n",
            "[array([0.50855197, 0.62630071, 0.36615994, 0.6477101 , 0.66802194,\n",
            "       0.59609905, 0.49041956, 0.35149823, 0.55028607, 0.57882385]), array([0.50899456, 0.62570556, 0.36579894, 0.64742333, 0.67052155,\n",
            "       0.59687568, 0.49066046, 0.35153565, 0.54972771, 0.57690321]), array([0.50891931, 0.6264649 , 0.36559583, 0.64678916, 0.66854179,\n",
            "       0.59521383, 0.49073635, 0.35034477, 0.5507347 , 0.57807063])]\n"
          ]
        },
        {
          "data": {
            "text/html": [
              "<div>\n",
              "<style scoped>\n",
              "    .dataframe tbody tr th:only-of-type {\n",
              "        vertical-align: middle;\n",
              "    }\n",
              "\n",
              "    .dataframe tbody tr th {\n",
              "        vertical-align: top;\n",
              "    }\n",
              "\n",
              "    .dataframe thead th {\n",
              "        text-align: right;\n",
              "    }\n",
              "</style>\n",
              "<table border=\"1\" class=\"dataframe\">\n",
              "  <thead>\n",
              "    <tr style=\"text-align: right;\">\n",
              "      <th></th>\n",
              "      <th>Root Mean Square Error(RMSE-xgboost)</th>\n",
              "      <th>Mean Squared Error (MSE-xgboost)</th>\n",
              "      <th>Mean Absolute Error (MAE-xgboost)</th>\n",
              "      <th>R2 Score-xgboost</th>\n",
              "      <th>Cross Validation-xgboost</th>\n",
              "    </tr>\n",
              "  </thead>\n",
              "  <tbody>\n",
              "    <tr>\n",
              "      <th>Original</th>\n",
              "      <td>8.577832</td>\n",
              "      <td>73.579197</td>\n",
              "      <td>6.415182</td>\n",
              "      <td>-0.457039</td>\n",
              "      <td>[0.5085519727075807, 0.6263007095297857, 0.366...</td>\n",
              "    </tr>\n",
              "    <tr>\n",
              "      <th>Normalized</th>\n",
              "      <td>8.577832</td>\n",
              "      <td>73.579197</td>\n",
              "      <td>6.415182</td>\n",
              "      <td>-0.457039</td>\n",
              "      <td>[0.5089945573914766, 0.6257055596404115, 0.365...</td>\n",
              "    </tr>\n",
              "    <tr>\n",
              "      <th>Standardized</th>\n",
              "      <td>8.577832</td>\n",
              "      <td>73.579197</td>\n",
              "      <td>6.415182</td>\n",
              "      <td>-0.457039</td>\n",
              "      <td>[0.5089193078850862, 0.6264648959495949, 0.365...</td>\n",
              "    </tr>\n",
              "  </tbody>\n",
              "</table>\n",
              "</div>"
            ],
            "text/plain": [
              "              Root Mean Square Error(RMSE-xgboost)  \\\n",
              "Original                                  8.577832   \n",
              "Normalized                                8.577832   \n",
              "Standardized                              8.577832   \n",
              "\n",
              "              Mean Squared Error (MSE-xgboost)  \\\n",
              "Original                             73.579197   \n",
              "Normalized                           73.579197   \n",
              "Standardized                         73.579197   \n",
              "\n",
              "              Mean Absolute Error (MAE-xgboost)  R2 Score-xgboost  \\\n",
              "Original                               6.415182         -0.457039   \n",
              "Normalized                             6.415182         -0.457039   \n",
              "Standardized                           6.415182         -0.457039   \n",
              "\n",
              "                                       Cross Validation-xgboost  \n",
              "Original      [0.5085519727075807, 0.6263007095297857, 0.366...  \n",
              "Normalized    [0.5089945573914766, 0.6257055596404115, 0.365...  \n",
              "Standardized  [0.5089193078850862, 0.6264648959495949, 0.365...  "
            ]
          },
          "execution_count": 242,
          "metadata": {},
          "output_type": "execute_result"
        }
      ],
      "source": [
        "import xgboost as xgb\n",
        "xg_reg = xgb.XGBRegressor(objective ='reg:linear', colsample_bytree = 0.3, learning_rate = 0.1,\n",
        "                max_depth = 5, alpha = 10, n_estimators = 10)\n",
        "\n",
        "\n",
        "rmseX = []\n",
        "mseX=[]\n",
        "maeX=[]\n",
        "r2X=[]\n",
        "cv_X=[] \n",
        "# model fitting and measuring RMSE\n",
        "for i in range(len(trainX)):\n",
        "  xg_reg.fit(trainX[i],y_train)\n",
        "    # predict\n",
        "  pred = xg_reg.predict(testX[i])\n",
        "    # RMSE\n",
        "  rmseX.append(np.sqrt(mean_squared_error(y_test,pred)))\n",
        "  mseX.append(mean_squared_error(y_test,pred))\n",
        "  maeX.append(mean_absolute_error(y_test,pred))\n",
        "  r2X.append(r2_score(y_test,pred))\n",
        "  cv_X.append(cross_val_score(estimator = regressor_rf, X = trainX[i], y = y_train.ravel(), cv = 10))\n",
        "\n",
        "# visualizing the result    \n",
        "df_X = pd.DataFrame({'Root Mean Square Error(RMSE-xgboost)':rmseX},index=['Original','Normalized','Standardized'])\n",
        "df_X1 = pd.DataFrame({'Mean Squared Error (MSE-xgboost)':mseX},index=['Original','Normalized','Standardized'])\n",
        "df_X2 = pd.DataFrame({'Mean Absolute Error (MAE-xgboost)':maeX},index=['Original','Normalized','Standardized'])\n",
        "df_X3=pd.DataFrame({'R2 Score-xgboost':r2X},index=['Original','Normalized','Standardized'])\n",
        "df_X4=pd.DataFrame({'Cross Validation-xgboost':cv_X},index=['Original','Normalized','Standardized'])\n",
        "result5 = pd.concat([df_X, df_X1,df_X2,df_X3,df_X4], axis=1, join='inner')\n",
        "print(rmseX)\n",
        "print(mseX)\n",
        "print(maeX)\n",
        "print(r2X)\n",
        "print(cv_X)\n",
        "result5 "
      ]
    },
    {
      "cell_type": "code",
      "execution_count": null,
      "id": "fcd248a9",
      "metadata": {
        "id": "fcd248a9"
      },
      "outputs": [],
      "source": [
        ""
      ]
    }
  ],
  "metadata": {
    "colab": {
      "name": "Predict_the_Price_per_Squarefeet_of_House_in_Dhaka_City_by_Applying_Machine_Learning_Techniques_Copy.ipynb",
      "provenance": []
    },
    "kernelspec": {
      "display_name": "Python 3",
      "language": "python",
      "name": "python3"
    },
    "language_info": {
      "codemirror_mode": {
        "name": "ipython",
        "version": 3
      },
      "file_extension": ".py",
      "mimetype": "text/x-python",
      "name": "python",
      "nbconvert_exporter": "python",
      "pygments_lexer": "ipython3",
      "version": "3.8.8"
    }
  },
  "nbformat": 4,
  "nbformat_minor": 5
}